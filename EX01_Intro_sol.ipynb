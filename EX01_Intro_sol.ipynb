{
  "cells": [
    {
      "cell_type": "markdown",
      "metadata": {
        "id": "O2OSuS7N2Aie"
      },
      "source": [
        "# Задание 1. Загрузка данных и визуализация"
      ]
    },
    {
      "cell_type": "markdown",
      "metadata": {
        "id": "h07SQCce2Aie"
      },
      "source": [
        "В этом задании мы познакомимся подробнее с тем, как работать с табличными данными и визуализировать их."
      ]
    },
    {
      "cell_type": "markdown",
      "metadata": {
        "id": "qmrUYS_62Aie"
      },
      "source": [
        "Импорт необходимых библиотек:"
      ]
    },
    {
      "cell_type": "code",
      "execution_count": null,
      "metadata": {
        "id": "lN_iEpW42Aif"
      },
      "outputs": [],
      "source": [
        "import numpy as np\n",
        "import pandas as pd\n",
        "import seaborn as sns\n",
        "import matplotlib.pyplot as plt\n",
        "from sklearn.datasets import load_wine"
      ]
    },
    {
      "cell_type": "markdown",
      "metadata": {
        "id": "h_-tBXS12Aig"
      },
      "source": [
        "Загрузите [Wine Data Set](https://archive.ics.uci.edu/ml/datasets/wine)\n",
        "\n",
        "Удобный способ сделать это — использовать модуль [sklearn.datasets](https://scikit-learn.org/stable/modules/generated/sklearn.datasets.load_wine.html)."
      ]
    },
    {
      "cell_type": "code",
      "execution_count": null,
      "metadata": {
        "id": "oLHfKy_f2Aig"
      },
      "outputs": [],
      "source": [
        "# Download dataset\n",
        "data, labels = load_wine(return_X_y=True, as_frame=True)"
      ]
    },
    {
      "cell_type": "markdown",
      "metadata": {
        "id": "9y-3-sZl2Aig"
      },
      "source": [
        "И `data`, и `labels` — это N-мерные массивы. **Посмотрите, какие у них размеры**"
      ]
    },
    {
      "cell_type": "code",
      "execution_count": null,
      "metadata": {
        "id": "Qa1cerRl2Aig"
      },
      "outputs": [],
      "source": [
        "# Your code here\n",
        "print(data.shape, labels.shape)"
      ]
    },
    {
      "cell_type": "markdown",
      "metadata": {
        "id": "9OZkuRYL2Aig"
      },
      "source": [
        "И какие метки классов представлены."
      ]
    },
    {
      "cell_type": "code",
      "execution_count": null,
      "metadata": {
        "id": "wkAFkzsV2Aih"
      },
      "outputs": [],
      "source": [
        "# Your code here\n",
        "labels.unique()"
      ]
    },
    {
      "cell_type": "markdown",
      "metadata": {
        "id": "DcTKqcyb2Aih"
      },
      "source": [
        "Выведем первые 3 строки датасета."
      ]
    },
    {
      "cell_type": "code",
      "execution_count": null,
      "metadata": {
        "id": "7M4BUfJF2Aih"
      },
      "outputs": [],
      "source": [
        "data.head(3)"
      ]
    },
    {
      "cell_type": "markdown",
      "metadata": {
        "id": "Gm0ziQWm2Aii"
      },
      "source": [
        "По умолчанию Pandas выводит всего 20 столбцов и 60 строк, поэтому если ваш датафрейм больше, воспользуйтесь функцией `set_option`:\n",
        "\n",
        "```\n",
        "pd.set_option('display.max_columns', 200)\n",
        "pd.set_option('display.max_rows', 100)\n",
        "pd.set_option('display.min_rows', 100)\n",
        "pd.set_option('display.expand_frame_repr', True)\n",
        "```\n",
        "\n",
        "Текущее значение параметра можно вывести подобным образом:\n",
        "\n",
        "```\n",
        "pd.get_option(\"display.max_rows\")\n",
        "```\n",
        "\n",
        "Выведите, какие значения сейчас, и поменяйте их так, чтобы открывался весь датафрейм."
      ]
    },
    {
      "cell_type": "code",
      "execution_count": null,
      "metadata": {
        "id": "njwaK6xq2Aii"
      },
      "outputs": [],
      "source": [
        "# Your code here\n",
        "\n",
        "pd.get_option(\"display.max_rows\")"
      ]
    },
    {
      "cell_type": "code",
      "execution_count": null,
      "metadata": {
        "id": "ynuAQnRL2Aii"
      },
      "outputs": [],
      "source": [
        "# Your code here\n",
        "\n",
        "pd.set_option(\"display.max_columns\", 200)\n",
        "pd.set_option(\"display.max_rows\", 100)\n",
        "pd.set_option(\"display.min_rows\", 100)\n",
        "pd.set_option(\"display.expand_frame_repr\", True)\n",
        "\n",
        "data"
      ]
    },
    {
      "cell_type": "markdown",
      "metadata": {
        "id": "xoKQxrec2Aii"
      },
      "source": [
        "Верните значения обратно к тем, что были по умолчанию."
      ]
    },
    {
      "cell_type": "code",
      "execution_count": null,
      "metadata": {
        "id": "5nd8x0-62Aii"
      },
      "outputs": [],
      "source": [
        "# Your code here\n",
        "\n",
        "pd.set_option(\"display.max_columns\", 60)\n",
        "pd.set_option(\"display.max_rows\", 10)\n",
        "pd.set_option(\"display.min_rows\", 10)\n",
        "pd.set_option(\"display.expand_frame_repr\", \"truncate\")"
      ]
    },
    {
      "cell_type": "markdown",
      "metadata": {
        "id": "d_9hqend2Aij"
      },
      "source": [
        "Выведем названия столбцов:"
      ]
    },
    {
      "cell_type": "code",
      "execution_count": null,
      "metadata": {
        "id": "gwCrSl4p2Aij"
      },
      "outputs": [],
      "source": [
        "print(data.columns)"
      ]
    },
    {
      "cell_type": "markdown",
      "metadata": {
        "id": "2PW-yXXQ2Aij"
      },
      "source": [
        "Чтобы посмотреть общую информацию по датафрейму и всем признакам, воспользуемся методом `info`:"
      ]
    },
    {
      "cell_type": "code",
      "execution_count": null,
      "metadata": {
        "id": "gKMAMfhl2Aik"
      },
      "outputs": [],
      "source": [
        "print(data.info())"
      ]
    },
    {
      "cell_type": "markdown",
      "metadata": {
        "id": "d5Z66vQP2Aik"
      },
      "source": [
        "В нашем случае все колонки имеют тип `float64`.\n",
        "\n",
        "* **float64**: число с плавающей точкой от $4.9*10^{-324}$ до $1.8*10^{308}$, занимает 8 байт.\n",
        "\n",
        "Кажется избыточным с учетом разброса значений в колонках. Кстати, какой он? Посмотрим на первые три колонки. Если убрать имена столбцов, то будет выведена вся статистика.\n",
        "\n",
        "[NumPy Standard Data Types](https://jakevdp.github.io/PythonDataScienceHandbook/02.01-understanding-data-types.html#NumPy-Standard-Data-Types)"
      ]
    },
    {
      "cell_type": "code",
      "execution_count": null,
      "metadata": {
        "id": "cqBZRJwI2Aik"
      },
      "outputs": [],
      "source": [
        "data[[\"alcohol\", \"malic_acid\", \"ash\"]].describe()"
      ]
    },
    {
      "cell_type": "markdown",
      "metadata": {
        "id": "_h7lB24o2Aik"
      },
      "source": [
        "Метод `describe` показывает основные статистические характеристики данных по каждому *числовому признаку*: число непропущенных значений, среднее, стандартное отклонение, диапазон, медиану, 0.25 и 0.75 квартили.\n",
        "\n",
        "**Изменить тип колонки** можно с помощью метода `astype`. Применим этот метод к признаку *alcohol* и переведём его в `float16`:"
      ]
    },
    {
      "cell_type": "code",
      "execution_count": null,
      "metadata": {
        "id": "ttHi2gjn2Aik"
      },
      "outputs": [],
      "source": [
        "data[\"alcohol\"] = data[\"alcohol\"].astype(\"float16\")"
      ]
    },
    {
      "cell_type": "markdown",
      "metadata": {
        "id": "3SO9i1Jt2Aik"
      },
      "source": [
        "Переведите 3 других признака в более подходящие типы и проверьте, что типы поменялись."
      ]
    },
    {
      "cell_type": "code",
      "execution_count": null,
      "metadata": {
        "id": "6WV25rIB2Aik"
      },
      "outputs": [],
      "source": [
        "# Your code here\n",
        "\n",
        "data[\"ash\"] = data[\"ash\"].astype(\"int16\")\n",
        "data[\"malic_acid\"] = data[\"malic_acid\"].astype(\"int16\")\n",
        "\n",
        "print(data.info())"
      ]
    },
    {
      "cell_type": "markdown",
      "metadata": {
        "id": "w5niMGG52Aik"
      },
      "source": [
        "**Сортировка**\n",
        "\n",
        "DataFrame можно отсортировать по значению какого-нибудь из признаков. Например, по *alcohol* (`ascending=False` для сортировки по убыванию):"
      ]
    },
    {
      "cell_type": "code",
      "execution_count": null,
      "metadata": {
        "id": "ZhTuoMp-2Aik"
      },
      "outputs": [],
      "source": [
        "data.sort_values(by=\"alcohol\", ascending=False).head()"
      ]
    },
    {
      "cell_type": "markdown",
      "metadata": {
        "id": "yWdzrBLB2Aik"
      },
      "source": [
        "Сортировать можно и по группе столбцов, подав список с названиями. Попробуйте."
      ]
    },
    {
      "cell_type": "code",
      "execution_count": null,
      "metadata": {
        "id": "E4exZs3H2Ail"
      },
      "outputs": [],
      "source": [
        "# Your code here\n",
        "\n",
        "data.sort_values(by=[\"alcohol\", \"color_intensity\"], ascending=False).head()"
      ]
    },
    {
      "cell_type": "markdown",
      "metadata": {
        "id": "2Tw1VEw42Ail"
      },
      "source": [
        "**Индексация и извлечение данных**\n",
        "\n",
        "DataFrame можно индексировать по-разному. Для извлечения отдельного столбца можно использовать конструкцию вида `DataFrame['Name']`. Для логической индексации — `df[P(df['Name'])]`, где $P$ — это некоторое логическое условие, проверяемое для каждого элемента столбца *Name*.\n",
        "\n",
        "Воспользуемся этим для ответа на вопрос: какое среднее содержание магния в алкоголе с крепостью ниже $12\\%$?"
      ]
    },
    {
      "cell_type": "code",
      "execution_count": null,
      "metadata": {
        "id": "X-RwUEye2Ail"
      },
      "outputs": [],
      "source": [
        "data[\"magnesium\"][data[\"alcohol\"] <= 12].mean()"
      ]
    },
    {
      "cell_type": "markdown",
      "metadata": {
        "id": "qXWO-gBj2Ail"
      },
      "source": [
        "Pandas позволяет комбинировать условия через логические операции. Сформулируйте какое-нибудь составное условие."
      ]
    },
    {
      "cell_type": "code",
      "execution_count": null,
      "metadata": {
        "id": "AAmf-r7E2Ail"
      },
      "outputs": [],
      "source": [
        "# Your code here\n",
        "\n",
        "data[(data[\"alcohol\"] <= 12) & (data[\"alcalinity_of_ash\"] >= 27)]"
      ]
    },
    {
      "cell_type": "markdown",
      "metadata": {
        "id": "I-mMsTkN2Ail"
      },
      "source": [
        "**Применение функций к ячейкам, столбцам и строкам**\n",
        "\n",
        "Применение функции **к каждому столбцу**: `apply`.\n",
        "\n",
        "\n"
      ]
    },
    {
      "cell_type": "code",
      "execution_count": null,
      "metadata": {
        "id": "EvA0WA2F2Ail"
      },
      "outputs": [],
      "source": [
        "data.apply(np.max)"
      ]
    },
    {
      "cell_type": "markdown",
      "metadata": {
        "id": "fBoMpmQi2Ail"
      },
      "source": [
        "Метод apply можно использовать и для того, чтобы применить функцию к каждой строке. Для этого нужно указать `axis=1`. Попробуйте."
      ]
    },
    {
      "cell_type": "code",
      "execution_count": null,
      "metadata": {
        "id": "kbCSIZgA2Aiy"
      },
      "outputs": [],
      "source": [
        "# Your code here\n",
        "\n",
        "data.apply(np.max, axis=1)"
      ]
    },
    {
      "cell_type": "markdown",
      "metadata": {
        "id": "ky62L2py2Aiy"
      },
      "source": [
        "Применение функции **к каждой ячейке** столбца: `map`.\n",
        "\n",
        "Например, метод map можно использовать для замены значений в колонке, передав ему в качестве аргумента словарь вида `{old_value: new_value}`."
      ]
    },
    {
      "cell_type": "code",
      "execution_count": null,
      "metadata": {
        "id": "Uaqxvgt02Aiy"
      },
      "outputs": [],
      "source": [
        "d = {2: \"low\", 3: \"low\"}\n",
        "data[\"ash\"] = data[\"ash\"].map(d)\n",
        "data.head(2)"
      ]
    },
    {
      "cell_type": "markdown",
      "metadata": {
        "id": "07oLUd8H2Aiy"
      },
      "source": [
        "Попробуйте какую-нибудь свою замену. Например, вы можете подать **lambda-функцию**.\n",
        "\n",
        "[Лямбда-функции в Python](https://habr.com/ru/companies/piter/articles/674234/)"
      ]
    },
    {
      "cell_type": "code",
      "execution_count": null,
      "metadata": {
        "id": "yfQv6k6U2Aiy"
      },
      "outputs": [],
      "source": [
        "# Your code here\n",
        "\n",
        "d = lambda x: x if (x < 30 or x > 60) else 0\n",
        "data[\"magnesium\"] = data[\"magnesium\"].map(d)\n",
        "data.head(2)"
      ]
    },
    {
      "cell_type": "markdown",
      "metadata": {
        "id": "YB-Slzq_2Aiy"
      },
      "source": [
        "**Группировка данных**\n",
        "\n",
        "В общем случае группировка данных в Pandas выглядит следующим образом:\n",
        "\n",
        "`df.groupby(by=grouping_columns)[columns_to_show].function()`\n",
        "\n",
        "Например, выведем статистики по трём столбцам в зависимости от значения признака alcohol."
      ]
    },
    {
      "cell_type": "code",
      "execution_count": null,
      "metadata": {
        "id": "V5_GnWPZ2Aiz"
      },
      "outputs": [],
      "source": [
        "columns_to_show = [\"malic_acid\", \"total_phenols\", \"proanthocyanins\"]\n",
        "\n",
        "data.groupby([\"alcohol\"])[columns_to_show].describe(percentiles=[])"
      ]
    },
    {
      "cell_type": "markdown",
      "metadata": {
        "id": "1i6c9l3a2Aiz"
      },
      "source": [
        "Сделаем то же самое, но немного по-другому, передав в `agg()` список функций:"
      ]
    },
    {
      "cell_type": "code",
      "execution_count": null,
      "metadata": {
        "id": "yCDriKid2Aiz"
      },
      "outputs": [],
      "source": [
        "data.groupby([\"alcohol\"])[columns_to_show].agg([np.mean, np.std, np.min, np.max])"
      ]
    },
    {
      "cell_type": "markdown",
      "metadata": {
        "id": "FY3KMIzs2Aiz"
      },
      "source": [
        "Когда данных много, просто смотреть на цифры крайне неинформативно.\n",
        "\n",
        "Для визуализации данных в этом курсе мы будем использовать библиотеку `matplotlib`. **Давайте ее импортируем**."
      ]
    },
    {
      "cell_type": "code",
      "execution_count": null,
      "metadata": {
        "id": "lZYxdVjC2Aiz"
      },
      "outputs": [],
      "source": [
        "import matplotlib.pyplot as plt\n",
        "\n",
        "fig, axs = plt.subplots(figsize=(4, 3))\n",
        "labels.hist()\n",
        "plt.suptitle(\"Label balance\")\n",
        "plt.show()"
      ]
    },
    {
      "cell_type": "markdown",
      "metadata": {
        "id": "-FVSYT0R2Aiz"
      },
      "source": [
        "Объединим данные и метки в один фрейм. Нам это потребуется для упрощения визуализации."
      ]
    },
    {
      "cell_type": "code",
      "execution_count": null,
      "metadata": {
        "id": "OZ_wc1o02Aiz"
      },
      "outputs": [],
      "source": [
        "df = pd.concat([data, labels], axis=1)"
      ]
    },
    {
      "cell_type": "markdown",
      "metadata": {
        "id": "UsjCFiyf2Aiz"
      },
      "source": [
        "Теперь мы можем посмотреть, как меняется средняя крепость алкоголя в зависимости от значения метки в *target*. Реализация функции `plot` в `pandas` основана на библиотеке `matplotlib`.\n",
        "\n",
        "Здесь `show()` позволяет нам убрать служебные сообщения."
      ]
    },
    {
      "cell_type": "code",
      "execution_count": null,
      "metadata": {
        "id": "SjClT34T2Aiz"
      },
      "outputs": [],
      "source": [
        "df.groupby(\"target\")[\"alcohol\"].mean().plot(legend=True)\n",
        "plt.show()"
      ]
    },
    {
      "cell_type": "markdown",
      "metadata": {
        "id": "1EITBc_32Aiz"
      },
      "source": [
        "C помощью параметра `kind` можно изменить тип графика, например, на **bar chart**. `Matplotlib` позволяет очень гибко настраивать графики. На графике можно изменить почти все, что угодно, но потребуется порыться в документации и найти нужные параметры. Например, параметр `rot` отвечает за угол наклона подписей к оси `x`"
      ]
    },
    {
      "cell_type": "code",
      "execution_count": null,
      "metadata": {
        "id": "Gn_EHAak2Aiz"
      },
      "outputs": [],
      "source": [
        "df.groupby(\"target\")[\"alcohol\"].mean().plot(kind=\"bar\", legend=True, rot=45)\n",
        "plt.show()"
      ]
    },
    {
      "cell_type": "markdown",
      "metadata": {
        "id": "oF0HBDTa2Aiz"
      },
      "source": [
        "**Seaborn**\n",
        "\n",
        "Теперь давайте перейдем к библиотеке `seaborn`. `Seaborn` — более высокоуровневое API на базе библиотеки `matplotlib`. Seaborn содержит более адекватные дефолтные настройки оформления графиков. Также в библиотеке есть достаточно сложные типы визуализации, которые в `matplotlib` потребовали бы большого количество кода."
      ]
    },
    {
      "cell_type": "markdown",
      "metadata": {
        "id": "N9Z37hQA2Aiz"
      },
      "source": [
        "Познакомимся с первым таким \"сложным\" типом графиков — pair plot (scatter plot matrix). Эта визуализация поможет нам посмотреть на одной картинке, как связаны между собой различные признаки."
      ]
    },
    {
      "cell_type": "code",
      "execution_count": null,
      "metadata": {
        "id": "x6lPL48n2Aiz"
      },
      "outputs": [],
      "source": [
        "import seaborn as sns\n",
        "\n",
        "data, labels = load_wine(return_X_y=True, as_frame=True)\n",
        "df = pd.concat([data, labels], axis=1)\n",
        "cols = [\"alcohol\", \"malic_acid\", \"ash\", \"target\"]\n",
        "sns_plot = sns.pairplot(df[cols])\n",
        "sns_plot.savefig(\"pairplot.png\")"
      ]
    },
    {
      "cell_type": "markdown",
      "metadata": {
        "id": "FjUb3p_32Aiz"
      },
      "source": [
        "Как можно видеть, на диагонали матрицы графиков расположены гистограммы распределений признака. Остальные же графики — это обычные `scatter` plots для соответствующих пар признаков.\n",
        "\n",
        "Для сохранения графиков в файлы стоит использовать метод `savefig`.\n",
        "\n",
        "Выведите аналогичный график по иным 5 колонкам."
      ]
    },
    {
      "cell_type": "code",
      "execution_count": null,
      "metadata": {
        "id": "nGIs4J9q2Aiz"
      },
      "outputs": [],
      "source": [
        "# Your code here\n",
        "\n",
        "cols = [\"proanthocyanins\", \"hue\", \"od280/od315_of_diluted_wines\"]\n",
        "sns_plot = sns.pairplot(df[cols])"
      ]
    },
    {
      "cell_type": "markdown",
      "metadata": {
        "id": "PrGMNfVM2Aiz"
      },
      "source": [
        "С помощью `seaborn` можно построить и распределение dist plot. Для примера посмотрим на распределение `color_intensity`. Обратите внимание, что так тоже можно обращаться к колонкам."
      ]
    },
    {
      "cell_type": "code",
      "execution_count": null,
      "metadata": {
        "id": "jz13cWh-2Aiz"
      },
      "outputs": [],
      "source": [
        "sns.histplot(df.color_intensity, kde=True)\n",
        "plt.show()"
      ]
    },
    {
      "cell_type": "markdown",
      "metadata": {
        "id": "b3JYGsXa2Aiz"
      },
      "source": [
        "Для того, чтобы посмотреть на диапазон и распределение данных, используется `box plot`. Посмотрим на то, как связаны между собой 5 наиболее часто встречаемых крепостей напитков и `flavanoids`."
      ]
    },
    {
      "cell_type": "code",
      "execution_count": null,
      "metadata": {
        "id": "Ei4eL6bR2Ai0"
      },
      "outputs": [],
      "source": [
        "top_alcohol = (\n",
        "    df.alcohol.value_counts().sort_values(ascending=False).head(5).index.values\n",
        ")\n",
        "sns.boxplot(\n",
        "    y=\"alcohol\", x=\"flavanoids\", data=df[df.alcohol.isin(top_alcohol)], orient=\"h\"\n",
        ")\n",
        "plt.show()"
      ]
    },
    {
      "cell_type": "markdown",
      "metadata": {
        "id": "Exys4uXW2Ai0"
      },
      "source": [
        "`Box plot` состоит из коробки (поэтому он и называется `box plot`), усов и точек (иначе его называют *ящик с усами*). Коробка показывает интерквартильный размах распределения, то есть соответственно 25% (Q1) и 75% (Q3) перцентили. Черта внутри коробки обозначает медиану распределения.\n",
        "\n",
        "Усы отображают весь разброс точек кроме выбросов, то есть минимальные и максимальные значения, которые попадают в промежуток ($Q1 - 1.5*IQR$, $Q3 + 1.5*IQR$), где $IQR = Q3 - Q1$ — интерквартильный размах. Точками на графике обозначаются выбросы (outliers) — те значения, которые не вписываются в промежуток значений, заданный усами графика.\n",
        "\n",
        "[[wiki] Box plot](https://en.wikipedia.org/wiki/Box_plot)"
      ]
    },
    {
      "cell_type": "markdown",
      "metadata": {
        "id": "XBGs8_JD2Ai0"
      },
      "source": [
        "**Постройте свой ящик с усами!** Для этого выберите какую-нибудь подвыборку данных, которую можно визуально анализировать."
      ]
    },
    {
      "cell_type": "code",
      "execution_count": null,
      "metadata": {
        "id": "qlynFAM42Ai0"
      },
      "outputs": [],
      "source": [
        "# Your code here"
      ]
    },
    {
      "cell_type": "markdown",
      "metadata": {
        "id": "fEH5wT5a2Ai0"
      },
      "source": [
        "Последний график, который рассмотрим в этом задании — это **heat map**. Сгруппируем значения крепости в 5 бинов (примерно такой же подход при построении гистограмм), и посмотрим на распределение численного признака (`proanthocyanins`) по двум категориальным."
      ]
    },
    {
      "cell_type": "code",
      "execution_count": null,
      "metadata": {
        "id": "hc9K-h_i2Ai1"
      },
      "outputs": [],
      "source": [
        "df[\"alcoholGroup\"] = pd.cut(df[\"alcohol\"], bins=5)"
      ]
    },
    {
      "cell_type": "code",
      "execution_count": null,
      "metadata": {
        "id": "PgyYIOW-2Ai1"
      },
      "outputs": [],
      "source": [
        "platform_genre_sales = (\n",
        "    df.pivot_table(\n",
        "        index=\"target\", columns=\"alcoholGroup\", values=\"proanthocyanins\", aggfunc=sum\n",
        "    )\n",
        "    .fillna(0)\n",
        "    .applymap(float)\n",
        ")\n",
        "sns.heatmap(platform_genre_sales, annot=True, fmt=\".1f\", linewidths=0.05)\n",
        "plt.show()"
      ]
    },
    {
      "cell_type": "markdown",
      "metadata": {
        "id": "qtUdeE0H2Ai1"
      },
      "source": [
        "Постройте аналогичную тепловую карту. Быть может, вы ожидаете какие-то закономерности?"
      ]
    },
    {
      "cell_type": "code",
      "execution_count": null,
      "metadata": {
        "id": "Fs_RncAC2Ai1"
      },
      "outputs": [],
      "source": [
        "# Your code here"
      ]
    },
    {
      "cell_type": "markdown",
      "metadata": {
        "id": "xNMhOpUQ2Ai1"
      },
      "source": [
        "В дальнейших лекциях и заданиях на основе подобных визуализаций и подсчётов вы будете производить разведочный анализ и строить гипотезы о том, какой **baseline** можно получить, выведя грубую (или не очень) связь между данными и целевой переменной."
      ]
    },
    {
      "cell_type": "markdown",
      "metadata": {
        "id": "uvNu3F0L2Ai1"
      },
      "source": [
        "В следующем задании вы продложите анализ датасета."
      ]
    },
    {
      "cell_type": "markdown",
      "metadata": {
        "id": "WdxC7eqC2Ai1"
      },
      "source": [
        "## Формат результата"
      ]
    },
    {
      "cell_type": "markdown",
      "metadata": {
        "id": "HWgE_JK62Ai1"
      },
      "source": [
        "Результат выполнения — таблицы и графики."
      ]
    },
    {
      "cell_type": "markdown",
      "metadata": {
        "id": "pGXrRTED2Ai2"
      },
      "source": [
        "# Задание 2. Кросс-валидация"
      ]
    },
    {
      "cell_type": "markdown",
      "metadata": {
        "id": "YI-UQuaC2Ai2"
      },
      "source": [
        "Напишите свою реализацию кросс-валидации, используя только библиотеку `numpy`. Обучите модель `KNeighborsClassifier` с параметрами `n_neighbors=3, metric='euclidean'` с помощью кросс-валидации, получите значения `accuracy` по всем 5 фолдам."
      ]
    },
    {
      "cell_type": "markdown",
      "metadata": {
        "id": "7spEbijv2Ai2"
      },
      "source": [
        "## Формат результата"
      ]
    },
    {
      "cell_type": "markdown",
      "metadata": {
        "id": "n2t_j8-i2Ai2"
      },
      "source": [
        "Результат выполнения — значения метрики `accuracy` для пяти фолдов c использованием разных способов."
      ]
    },
    {
      "cell_type": "code",
      "execution_count": null,
      "metadata": {
        "id": "SGYqtnLV2Ai2"
      },
      "outputs": [],
      "source": [
        "from sklearn.neighbors import KNeighborsClassifier\n",
        "from sklearn.model_selection import train_test_split\n",
        "from sklearn.metrics import accuracy_score\n",
        "from sklearn.datasets import load_iris\n",
        "import numpy as np\n",
        "\n",
        "iris = load_iris()\n",
        "x, y = iris.data, iris.target\n",
        "\n",
        "model = KNeighborsClassifier(n_neighbors=3, metric='euclidean')\n",
        "\n",
        "def custom_cv(num_folds, x, y, model, metric=accuracy_score):\n",
        "\n",
        "    np.random.seed(42)\n",
        "    results = []\n",
        "    indices = np.arange(len(x))\n",
        "    np.random.shuffle(indices)\n",
        "\n",
        "    for i in range(num_folds):\n",
        "        val_indices = indices[i::num_folds]\n",
        "        train_indices = indices[~val_indices]\n",
        "        x_train, x_val = x[train_indices], x[val_indices]\n",
        "        y_train, y_val = y[train_indices], y[val_indices]\n",
        "\n",
        "        model.fit(x_train, y_train)\n",
        "        predictions = model.predict(x_val)\n",
        "        score = metric(y_val, predictions)\n",
        "        results.append(score)\n",
        "        print(f'Accuracy for fold {i + 1}: {score}')\n",
        "\n",
        "    return np.array(results)\n",
        "\n",
        "results = custom_cv(5, x, y, model)\n",
        "print('Mean: ', results.mean())"
      ]
    },
    {
      "cell_type": "markdown",
      "metadata": {
        "id": "JFu6Vuuu2Ai2"
      },
      "source": [
        "Теперь сделайте кросс-валидацию, используя `KFold` из `sklearn.model_selection`:"
      ]
    },
    {
      "cell_type": "code",
      "execution_count": null,
      "metadata": {
        "id": "BGTCcuox2Ai2"
      },
      "outputs": [],
      "source": [
        "from sklearn.model_selection import KFold\n",
        "\n",
        "np.random.seed(42)\n",
        "\n",
        "def custom_cv_1(num_folds, x, y, model, metric=accuracy_score):\n",
        "\n",
        "    results = []\n",
        "    kf = KFold(n_splits=num_folds, random_state=42, shuffle=True)\n",
        "    for i, (train_indices, val_indices) in enumerate(kf.split(x)):\n",
        "        x_train, x_val = x[train_indices], x[val_indices]\n",
        "        y_train, y_val = y[train_indices], y[val_indices]\n",
        "\n",
        "        model.fit(x_train, y_train)\n",
        "        predictions = model.predict(x_val)\n",
        "        score = metric(y_val, predictions)\n",
        "        results.append(score)\n",
        "        print(f'Accuracy for fold {i + 1}: {score}')\n",
        "\n",
        "    return np.array(results)\n",
        "\n",
        "results = custom_cv_1(5, x, y, model)\n",
        "print('Mean: ', results.mean())"
      ]
    },
    {
      "cell_type": "markdown",
      "metadata": {
        "id": "-arqdRbT2Ai2"
      },
      "source": [
        "Теперь используйте `cross_val_score` или `cross_validate`:"
      ]
    },
    {
      "cell_type": "code",
      "execution_count": null,
      "metadata": {
        "id": "CGhLjSIL2Ai2"
      },
      "outputs": [],
      "source": [
        "from sklearn.model_selection import cross_val_score\n",
        "\n",
        "cv = KFold(n_splits=5, shuffle=True)\n",
        "results = cross_val_score(model, x, y, cv=cv, scoring=\"accuracy\")\n",
        "\n",
        "print(results.mean())"
      ]
    },
    {
      "cell_type": "markdown",
      "metadata": {
        "id": "Q40FBTis2Ai2"
      },
      "source": [
        "# Задание 3. Метрики классификации"
      ]
    },
    {
      "cell_type": "markdown",
      "metadata": {
        "id": "aD1FBKzu2Ai2"
      },
      "source": [
        "Чаще всего модели, с которыми вы будете работать для задачи классификации, будут выдавать вероятность принадлежности к классу. Стандартный порог для задачи классификации — 0.5, но бывают ситуации, когда порог можно подобрать лучше. Подберем разные пороги и посчитаем метрики при различных порогах."
      ]
    },
    {
      "cell_type": "markdown",
      "metadata": {
        "id": "iCj2KSq52Ai2"
      },
      "source": [
        "## Формат результата"
      ]
    },
    {
      "cell_type": "markdown",
      "metadata": {
        "id": "huVX4eYt2Ai3"
      },
      "source": [
        "Подобранный порог, при котором `f1-score` максимальный, и значения метрик при разных порогах"
      ]
    },
    {
      "cell_type": "markdown",
      "metadata": {
        "id": "V6uIlhiq2Ai3"
      },
      "source": [
        "Загрузите предсказания модели:"
      ]
    },
    {
      "cell_type": "code",
      "execution_count": null,
      "metadata": {
        "id": "7LX70zp_2Ai3"
      },
      "outputs": [],
      "source": [
        "import pandas as pd\n",
        "\n",
        "df_tmp = pd.read_csv('https://edunet.kea.su/repo/EduNet-web_dependencies/datasets/y_pred_proba.csv')\n",
        "df_tmp"
      ]
    },
    {
      "cell_type": "markdown",
      "metadata": {
        "id": "cMGgSy1a2Ai3"
      },
      "source": [
        "Посчитайте `classification_report` при пороге 0.5:"
      ]
    },
    {
      "cell_type": "code",
      "execution_count": null,
      "metadata": {
        "id": "h2lIc9V82Ai3"
      },
      "outputs": [],
      "source": [
        "df_tmp['y_pred_05'] = df_tmp['y_pred'].apply(lambda x: 1 if x>0.5 else 0)\n",
        "df_tmp"
      ]
    },
    {
      "cell_type": "code",
      "execution_count": null,
      "metadata": {
        "id": "TmxrUS3R2Ai3"
      },
      "outputs": [],
      "source": [
        "from sklearn.metrics import classification_report\n",
        "\n",
        "\n",
        "target_names = [\"class 0\", \"class 1\"]\n",
        "print(classification_report(df_tmp['y_true'], df_tmp['y_pred_05'], target_names=target_names))"
      ]
    },
    {
      "cell_type": "markdown",
      "metadata": {
        "id": "ZUr8-XQ-2Ai3"
      },
      "source": [
        "Нарисуйте распределение классов, используя `sns.histplot`:"
      ]
    },
    {
      "cell_type": "code",
      "execution_count": null,
      "metadata": {
        "id": "ZIe9Vmrm2Ai3"
      },
      "outputs": [],
      "source": [
        "import seaborn as sns\n",
        "import matplotlib.pyplot as plt\n",
        "\n",
        "sns.histplot(df_tmp, x='y_pred', hue='y_true', bins=15)\n",
        "plt.axvline(x=0.5, c=\"r\", linestyle=\"--\")\n",
        "plt.show()\n"
      ]
    },
    {
      "cell_type": "markdown",
      "metadata": {
        "id": "RE7sUCYz2Ai3"
      },
      "source": [
        "Видно, что оптимальный порог находится ниже 0.5, но подбирать его по графику довольно проблематично, воспользуемся `precision_recall_curve`:"
      ]
    },
    {
      "cell_type": "code",
      "execution_count": null,
      "metadata": {
        "id": "wTkh4yBa2Ai3"
      },
      "outputs": [],
      "source": [
        "from sklearn.metrics import precision_recall_curve, PrecisionRecallDisplay\n",
        "\n",
        "precision, recall, thresholds = precision_recall_curve(df_tmp['y_true'], df_tmp['y_pred'])\n",
        "\n",
        "pr_display = PrecisionRecallDisplay(precision=precision, recall=recall)\n",
        "pr_display.plot()\n",
        "plt.show()"
      ]
    },
    {
      "cell_type": "markdown",
      "metadata": {
        "id": "EjWDggcE2Ai3"
      },
      "source": [
        "Теперь у нас есть все значения `precision` и `recall` при всех порогах. Посчитайте `f1-score` и выберите порог, при котором `f1-score` максимален:"
      ]
    },
    {
      "cell_type": "code",
      "execution_count": null,
      "metadata": {
        "id": "psGVgpPA2Ai3"
      },
      "outputs": [],
      "source": [
        "import numpy as np\n",
        "\n",
        "f1 = 2 * (precision * recall) / (precision + recall)\n",
        "\n",
        "best_f1_index = np.argmax(f1)\n",
        "best_threshold = thresholds[best_f1_index]\n",
        "\n",
        "print(\"Best threshold\", thresholds[best_f1_index])"
      ]
    },
    {
      "cell_type": "markdown",
      "metadata": {
        "id": "n6KHFYpv2Ai3"
      },
      "source": [
        "Отобразите новый порог на графике:"
      ]
    },
    {
      "cell_type": "code",
      "execution_count": null,
      "metadata": {
        "id": "Xd5VqdIC2Ai3"
      },
      "outputs": [],
      "source": [
        "sns.histplot(df_tmp, x='y_pred', hue='y_true', bins=15)\n",
        "plt.axvline(x=thresholds[best_f1_index], c=\"r\", linestyle=\"--\")\n",
        "plt.show()"
      ]
    },
    {
      "cell_type": "markdown",
      "metadata": {
        "id": "wmZ16nVM2Ai3"
      },
      "source": [
        "Посчитайте `classification_report` с новым порогом:"
      ]
    },
    {
      "cell_type": "code",
      "execution_count": null,
      "metadata": {
        "id": "ebFFHoUT2Ai3"
      },
      "outputs": [],
      "source": [
        "df_tmp['y_pred_best'] = df_tmp['y_pred'].apply(lambda x: 1 if x>thresholds[best_f1_index] else 0)\n",
        "\n",
        "target_names = [\"class 0\", \"class 1\"]\n",
        "print(classification_report(df_tmp['y_true'], df_tmp['y_pred_best'], target_names=target_names))"
      ]
    },
    {
      "cell_type": "markdown",
      "metadata": {
        "id": "RcHUlwoZ2Ai3"
      },
      "source": [
        "# Задание 4. Реализация k-NN"
      ]
    },
    {
      "cell_type": "markdown",
      "metadata": {
        "id": "dTG_6R7-2Ai4"
      },
      "source": [
        "В этом задании мы поработаем в концепии ОПП (Объектно-Ориентированного Программирования).  Реализуйте алгоритм k-NN для изображений и примените его.\n",
        "\n",
        "[ООП на Python: концепции, принципы и примеры реализации](https://proglib.io/p/python-oop)"
      ]
    },
    {
      "cell_type": "markdown",
      "metadata": {
        "id": "X39ibn4K2Ai4"
      },
      "source": [
        "Импорт необходимых библиотек:"
      ]
    },
    {
      "cell_type": "code",
      "execution_count": null,
      "metadata": {
        "id": "z3cG6s3M2Ai4"
      },
      "outputs": [],
      "source": [
        "import numpy as np\n",
        "from scipy.stats import mode\n",
        "from torchvision import datasets\n",
        "from sklearn.neighbors import KNeighborsClassifier\n",
        "from sklearn.model_selection import train_test_split"
      ]
    },
    {
      "cell_type": "markdown",
      "metadata": {
        "id": "VJ7oDpdK2Ai4"
      },
      "source": [
        "Функция, которая считает расстояние L1 между 2-мя векторами:"
      ]
    },
    {
      "cell_type": "code",
      "execution_count": null,
      "metadata": {
        "id": "jI9YIwFZ2Ai4"
      },
      "outputs": [],
      "source": [
        "def compute_L1(a, b):\n",
        "    return np.sum(np.abs(a - b))  # Your code here"
      ]
    },
    {
      "cell_type": "markdown",
      "metadata": {
        "id": "Mp21x7eG2Ai4"
      },
      "source": [
        "Загрузите датасет CIFAR-10 и разбейте его на тренировочный, валидационный и тестовый наборы. Укажите аргументы `random_state=42`, `stratify`."
      ]
    },
    {
      "cell_type": "code",
      "execution_count": null,
      "metadata": {
        "id": "uTA-w6M42Ai4"
      },
      "outputs": [],
      "source": [
        "dataset = datasets.CIFAR10(\"content\", train=True, download=True)\n",
        "\n",
        "np.random.seed(42)\n",
        "data, _, labels, _ = train_test_split(\n",
        "    dataset.data / 255,  # Normalize\n",
        "    np.array(dataset.targets),\n",
        "    train_size=0.1,  # get only fraction of the dataset\n",
        "    random_state=42,\n",
        "    stratify=dataset.targets,\n",
        ")\n",
        "\n",
        "# Your code here\n",
        "x_train, x_, y_train, y_ = train_test_split(\n",
        "    data, labels, train_size=0.8, random_state=42, stratify=labels\n",
        ")\n",
        "# Your code here\n",
        "x_val, x_test, y_val, y_test = train_test_split(\n",
        "    x_, y_, train_size=0.5, random_state=42, stratify=y_\n",
        ")"
      ]
    },
    {
      "cell_type": "markdown",
      "metadata": {
        "id": "JMhjWUqW2Ai4"
      },
      "source": [
        "Создайте класс k-NN и реализуйте его методы."
      ]
    },
    {
      "cell_type": "code",
      "execution_count": null,
      "metadata": {
        "id": "-1BnZPdP2Ai4"
      },
      "outputs": [],
      "source": [
        "class kNN:\n",
        "    def __init__(self, k, distance_func):\n",
        "        self.k = k  # Your code here\n",
        "        self.distance_func = distance_func  # Your code here\n",
        "\n",
        "    def fit(self, x, y):\n",
        "        self.train_data = x.copy()  # Your code here\n",
        "        self.train_labels = y.copy()  # Your code here\n",
        "\n",
        "    def predict(self, x):\n",
        "        distances = self.compute_distances(x)\n",
        "        indexes = np.argsort(distances, axis=1)[:, : self.k]\n",
        "        labels_of_top_classes = self.train_labels[indexes]\n",
        "        predicted_class, _ = mode(labels_of_top_classes, axis=1, keepdims=True)\n",
        "        return predicted_class.flatten()\n",
        "\n",
        "    def compute_distances(self, test):\n",
        "        # Your code here\n",
        "        train_size = len(self.train_data)\n",
        "        test_size = len(test)\n",
        "        distances = np.full((test_size, train_size), 0.0)\n",
        "        for i in range(test_size):\n",
        "            for j in range(train_size):\n",
        "                distances[i, j] = self.distance_func(test[i], self.train_data[j])\n",
        "\n",
        "        return distances"
      ]
    },
    {
      "cell_type": "code",
      "execution_count": null,
      "metadata": {
        "id": "xkMry_au2Ai4"
      },
      "outputs": [],
      "source": [
        "kNN_classifier = kNN(k=1, distance_func=compute_L1)\n",
        "kNN_classifier.fit(x=x_train, y=y_train)\n",
        "out = kNN_classifier.predict(x_test)"
      ]
    },
    {
      "cell_type": "code",
      "execution_count": null,
      "metadata": {
        "id": "Ya-62cZb2Ai4"
      },
      "outputs": [],
      "source": [
        "np.mean(y_test == out)"
      ]
    },
    {
      "cell_type": "markdown",
      "metadata": {
        "id": "PvJVVOjS2Ai4"
      },
      "source": [
        "Сравните время работы вашей реализации и реализации из sklearn"
      ]
    },
    {
      "cell_type": "code",
      "execution_count": null,
      "metadata": {
        "id": "xGjZ5ddQ2Ai4"
      },
      "outputs": [],
      "source": [
        "%%time\n",
        "out = kNN_classifier.predict(x_test);"
      ]
    },
    {
      "cell_type": "code",
      "execution_count": null,
      "metadata": {
        "id": "xY7A71z82Ai4"
      },
      "outputs": [],
      "source": [
        "nbrs = KNeighborsClassifier(n_neighbors=1, p=1).fit(\n",
        "    x_train.reshape(x_train.shape[0], -1), y_train\n",
        ")"
      ]
    },
    {
      "cell_type": "code",
      "execution_count": null,
      "metadata": {
        "id": "B-qNpuCi2Ai4"
      },
      "outputs": [],
      "source": [
        "%%time\n",
        "sk_out = nbrs.predict(x_test.reshape(x_test.shape[0], -1))"
      ]
    },
    {
      "cell_type": "code",
      "execution_count": null,
      "metadata": {
        "id": "m9oIvKxH2Ai4"
      },
      "outputs": [],
      "source": [
        "np.mean(out == sk_out)"
      ]
    },
    {
      "cell_type": "markdown",
      "metadata": {
        "id": "_chr9snf2Ai4"
      },
      "source": [
        "**Оптимальный k-NN. Погружение в ООП**\n",
        "\n",
        "Эта часть задания даёт дополнительные баллы и не обязательна к выполнению.\n",
        "\n",
        "* Реализуйте выбор ближайших соседей эффективно. Можно сделать [KD дерево](https://scikit-learn.org/stable/modules/generated/sklearn.neighbors.KDTree.html#sklearn.neighbors.KDTree), таким образом мы приблизимся к библиотечной реализации.\n",
        "\n",
        "   [[wiki] K-d tree](https://en.m.wikipedia.org/wiki/K-d_tree).\n",
        "\n",
        "   Сравните по эффективности как с исходной (простой) реализацией, так и с библиотечной.\n",
        "\n",
        "* *Примечание*. Предполагается, что вы самостоятельно реализуете алгоритм."
      ]
    },
    {
      "cell_type": "markdown",
      "metadata": {
        "id": "R7tLahj_2Ai4"
      },
      "source": [
        "На практике метод ближайших соседей для классификации используется редко.\n",
        "Проблема заключается в следующем.\n",
        "\n",
        "Предположим, что точность классификации нас устраивает. Применим k-NN на больших данных (e.g. миллион картинок). Для определения класса каждой из картинок необходимо сравнить ее со всеми другими картинками в базе данных, а такие расчеты, даже в существенно оптимизированном виде, занимают много времени.\n",
        "\n",
        "Тем не менее, метод ближайших соседей используется в других задачах, где без него обойтись сложно. Например, **в задаче распознавания лиц**. Представим, что у нас есть большая база данных с фотографиями лиц (например, по 5 разных фотографий всех сотрудников, которые работают в офисном здании) и есть камера, установленная на входе в это здание. Мы хотим узнать, кто и во сколько пришел на работу. Для того, чтобы понять, кто прошел перед камерой, нам нужно зафиксировать лицо этого человека и сравнить его со всеми фотографиями лиц в базе. В такой формулировке мы не пытаемся определить конкретный класс фотографии, а всего лишь определяем **“похож-не похож”**. Мы смотрим на k ближайших соседей, и если из k соседей, 5 — это фотографии, например, Джеки Чана, то, скорее всего, под камерой прошел именно он.\n",
        "\n"
      ]
    },
    {
      "cell_type": "markdown",
      "metadata": {
        "id": "I5WbHnRJ2Ai5"
      },
      "source": [
        "Примеры эффективной реализации метода на основе k-NN:\n",
        "* [[git] 🐾 Facebook AI Research Similarity Search](https://github.com/facebookresearch/faiss) – разработка команды Facebook AI Research для быстрого поиска ближайших соседей и кластеризации в векторном пространстве. Высокая скорость поиска позволяет работать с очень большими данными – до нескольких миллиардов векторов.\n",
        "* [[arxiv] 🎓 Hierarchical Navigable Small World](https://arxiv.org/abs/1603.09320) — алгоритм поиска ближайших соседей."
      ]
    },
    {
      "cell_type": "code",
      "execution_count": null,
      "metadata": {
        "id": "1e9hZ6id2Ai5"
      },
      "outputs": [],
      "source": [
        "# Your code here\n",
        "\n",
        "\"\"\"\n",
        "*   Основа для дерева - код отсюда: https://github.com/tsoding/kdtree-in-python/blob/master/main.py\n",
        "*   Добавлены комментарии, переделано под numpy и произвольную размерность, оформлено как класс\n",
        "\"\"\"\n",
        "\n",
        "\n",
        "class kNN_KDtree:\n",
        "    def __init__(self, distance_func):\n",
        "        # self.k_dim = k_dim\n",
        "        self.distance_func = distance_func\n",
        "\n",
        "    def closer_distance(\n",
        "        self, pivot, p1, p2\n",
        "    ):  # функция, считающая расстояния от интересующей pivot точки до других точек с учётом того, что расстояние до None как бы бесконечно\n",
        "        if p1 is None:\n",
        "            return p2\n",
        "\n",
        "        if p2 is None:\n",
        "            return p1\n",
        "\n",
        "        d1 = self.distance_func(pivot, p1)\n",
        "        d2 = self.distance_func(pivot, p2)\n",
        "\n",
        "        if d1 < d2:\n",
        "            return p1\n",
        "        else:\n",
        "            return p2\n",
        "\n",
        "    def build_kdtree(self, points, depth=0):\n",
        "        n = points.shape[0]\n",
        "        if n <= 0:\n",
        "            return None\n",
        "\n",
        "        axis = depth % self.k_dim  # выбор координаты для разделения\n",
        "        # print(axis)\n",
        "        sorted_points = points[\n",
        "            points[:, axis].argsort()\n",
        "        ]  # сортировка точек по выбранной координате\n",
        "\n",
        "        return {\n",
        "            \"point\": sorted_points[n // 2],  # выбираем среднюю точку\n",
        "            \"left\": self.build_kdtree(sorted_points[: n // 2], depth + 1),\n",
        "            \"right\": self.build_kdtree(sorted_points[n // 2 + 1 :], depth + 1),\n",
        "        }  # слева и справа рекурсивно строим деревья\n",
        "\n",
        "    def fit(self, points, y, depth=0):\n",
        "        self.x = points  # сохраняем точки\n",
        "        self.y = y  # сохраняем лейблы\n",
        "\n",
        "        self.k_dim = points.shape[1]\n",
        "        n = self.k_dim\n",
        "        # print(self.k_dim)\n",
        "\n",
        "        self.tree = self.build_kdtree(points, depth=0)  # создаём дерево\n",
        "\n",
        "    def kdtree_closest_point(self, root, point, depth=0):\n",
        "        if root is None:\n",
        "            return None\n",
        "\n",
        "        axis = depth % self.k_dim  # выбор координаты для разделения\n",
        "\n",
        "        next_branch = None\n",
        "        opposite_branch = None\n",
        "\n",
        "        if (\n",
        "            point[axis] < root[\"point\"][axis]\n",
        "        ):  # распределение точки влево или вправо в зависимости от сравнения координат\n",
        "            next_branch = root[\"left\"]\n",
        "            opposite_branch = root[\"right\"]\n",
        "        else:\n",
        "            next_branch = root[\"right\"]\n",
        "            opposite_branch = root[\"left\"]\n",
        "\n",
        "        best = self.closer_distance(\n",
        "            point,\n",
        "            self.kdtree_closest_point(next_branch, point, depth + 1),\n",
        "            root[\"point\"],\n",
        "        )  # выбор ближайшей точки - узла или точки из соседней ветки\n",
        "\n",
        "        if self.distance_func(point, best) > (point[axis] - root[\"point\"][axis]) ** 2:\n",
        "            best = self.closer_distance(\n",
        "                point,\n",
        "                self.kdtree_closest_point(opposite_branch, point, depth + 1),\n",
        "                best,\n",
        "            )  # выбор точки из соседней ветки, если до неё нам ближе\n",
        "\n",
        "        return best\n",
        "\n",
        "    def predict(self, x):  # возвращает класс ближайшего соседа\n",
        "        kdtree_out = self.kdtree_closest_point(self.tree, x, depth=0)\n",
        "        return self.y[np.where(np.all(self.x == kdtree_out, axis=1))]"
      ]
    },
    {
      "cell_type": "markdown",
      "metadata": {
        "id": "yrHDW6gd2Ai5"
      },
      "source": [
        "## Формат результата"
      ]
    },
    {
      "cell_type": "markdown",
      "metadata": {
        "id": "z1QbS10m2Ai5"
      },
      "source": [
        "Демонстрация времени работы вашей реализации и реализации из sklearn (с помощью %%time)"
      ]
    }
  ],
  "metadata": {
    "colab": {
      "provenance": [],
      "toc_visible": true
    }
  },
  "nbformat": 4,
  "nbformat_minor": 0
}