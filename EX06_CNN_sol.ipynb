{
  "cells": [
    {
      "cell_type": "markdown",
      "metadata": {
        "id": "M5smjcZJ6OMo"
      },
      "source": [
        "# Распределение баллов\n",
        "\n",
        "Задание 1: до **15** баллов\n",
        "\n",
        "Задание 2: до **10** баллов\n",
        "\n",
        "Задание 3: до **20** баллов\n",
        "\n",
        "Задание 4: до **15** баллов\n",
        "\n",
        "Задание 5: до **20** баллов\n",
        "\n",
        "\n",
        "Дополнительно: до **20** баллов"
      ]
    },
    {
      "cell_type": "markdown",
      "metadata": {
        "id": "ZcvF-ft16OMt"
      },
      "source": [
        "Время выполнения всех заданий на GPU < 20мин.\n",
        "\n"
      ]
    },
    {
      "cell_type": "markdown",
      "metadata": {
        "id": "jH_dikPt6OMu"
      },
      "source": [
        "# Вспомогательный код"
      ]
    },
    {
      "cell_type": "markdown",
      "metadata": {
        "id": "xSmA8rsq6OMu"
      },
      "source": [
        "Зафиксируем seeds для воспроизводимости результатов экспериментов."
      ]
    },
    {
      "cell_type": "code",
      "execution_count": null,
      "metadata": {
        "id": "2ZZUIK7w6OMv"
      },
      "outputs": [],
      "source": [
        "import numpy as np\n",
        "import random\n",
        "import torch\n",
        "\n",
        "\n",
        "def set_random_seed(seed):\n",
        "    torch.manual_seed(seed)\n",
        "    torch.cuda.manual_seed(seed)\n",
        "    np.random.seed(seed)\n",
        "    random.seed(seed)\n",
        "\n",
        "\n",
        "set_random_seed(42)"
      ]
    },
    {
      "cell_type": "markdown",
      "metadata": {
        "id": "cd1TuJkA6OMw"
      },
      "source": [
        "# Задание 1. Функция свертки"
      ]
    },
    {
      "cell_type": "markdown",
      "metadata": {
        "id": "q-8aHoh56OMw"
      },
      "source": [
        "Реализуйте функцию свёртки `conv(x, kernel, pad)`, где:\n",
        "\n",
        "* $\\text{x}$ — двумерный массив размером $(W,H)$;\n",
        "* $\\text{kernel}$ — ядро свёртки размером $(K_w, K_h)$;\n",
        "* $\\text{pad}$ — ширина дополнения с каждой из сторон массива, $\\text{pad} \\geq 0$.\n",
        "\n",
        "Шаг ядра свёртки $\\text{stride}$ полагается равным единице\n",
        "\n",
        "Результатом работы функции будет массив $\\text{out}$, содержащий результат свертки входных данных с $\\text{kernel}$, имеющий размер $(W', H')$:\n",
        "\n",
        "- $W' = 1 + (W + 2 \\cdot pad - K_w)\\ $;\n",
        "- $H' = 1 + (H + 2 \\cdot pad - K_h)\\ $."
      ]
    },
    {
      "cell_type": "markdown",
      "metadata": {
        "id": "s1EZ8eKP6OMx"
      },
      "source": [
        "Импорт необходимых библиотек:"
      ]
    },
    {
      "cell_type": "code",
      "execution_count": null,
      "metadata": {
        "id": "Hpe3Li4w6OMx"
      },
      "outputs": [],
      "source": [
        "import numpy as np\n",
        "import matplotlib.pyplot as plt\n",
        "from skimage import data"
      ]
    },
    {
      "cell_type": "markdown",
      "metadata": {
        "id": "Hsq0mqdW6OMy"
      },
      "source": [
        "Функция свертки:"
      ]
    },
    {
      "cell_type": "code",
      "execution_count": null,
      "metadata": {
        "id": "b6v2Hr3E6OMz"
      },
      "outputs": [],
      "source": [
        "def conv(x, kernel, pad):\n",
        "    # size\n",
        "    h, w = x.shape\n",
        "    k_h, k_w = kernel.shape\n",
        "\n",
        "    # padding\n",
        "    img = np.zeros((h + 2 * pad, w + 2 * pad))\n",
        "    img[pad : pad + h, pad : pad + w] = x\n",
        "\n",
        "    out = np.zeros((h + 2 * pad - k_h + 1, w + 2 * pad - k_w + 1))\n",
        "\n",
        "    for i in range(0, h + 2 * pad - k_h + 1):\n",
        "        for j in range(0, w + 2 * pad - k_w + 1):\n",
        "            patch = img[i : i + k_h, j : j + k_w]\n",
        "            out[i, j] = patch.flatten() @ kernel.flatten()\n",
        "\n",
        "    return out"
      ]
    },
    {
      "cell_type": "markdown",
      "metadata": {
        "id": "KlGf4xcU6OMz"
      },
      "source": [
        "Тест"
      ]
    },
    {
      "cell_type": "code",
      "execution_count": null,
      "metadata": {
        "id": "M0QWwgm46OMz"
      },
      "outputs": [],
      "source": [
        "# fmt: off\n",
        "M = np.array([[0, 0, 1, 0, 0],\n",
        "              [0, 0, 1, 0, 0],\n",
        "              [0, 0, 1, 0, 0],\n",
        "              [0, 0, 1, 0, 0],\n",
        "              [0, 0, 1, 0, 0]])\n",
        "# fmt: on\n",
        "\n",
        "kernel = np.array([[1, 0, -1]])\n",
        "actual = conv(M, kernel, pad=1)\n",
        "\n",
        "print(actual.shape, \"\\n\", actual)\n",
        "\n",
        "# fmt: off\n",
        "expected = np.array([[0, 0, 0, 0, 0],\n",
        "                     [0, -1, 0, 1, 0],\n",
        "                     [0, -1, 0, 1, 0],\n",
        "                     [0, -1, 0, 1, 0],\n",
        "                     [0, -1, 0, 1, 0],\n",
        "                     [0, -1, 0, 1, 0],\n",
        "                     [0, 0, 0, 0, 0]])\n",
        "# fmt: on\n",
        "\n",
        "\n",
        "assert np.array_equal(expected, actual), \"Error\""
      ]
    },
    {
      "cell_type": "markdown",
      "metadata": {
        "id": "eA_d6qFz6OMz"
      },
      "source": [
        "Воспользуйтесь созданной функцией `conv` для применения [оператора Собеля](https://ru.wikipedia.org/wiki/%D0%9E%D0%BF%D0%B5%D1%80%D0%B0%D1%82%D0%BE%D1%80_%D0%A1%D0%BE%D0%B1%D0%B5%D0%BB%D1%8F) к изображению.\n",
        "\n",
        "Выведите на экран:\n",
        "* изначальное изображение,\n",
        "* приближённые производные по вертикали,\n",
        "* приближённые производные по горизонтали,\n",
        "* норму градиента (корень от суммы квадратов производных)."
      ]
    },
    {
      "cell_type": "code",
      "execution_count": null,
      "metadata": {
        "id": "pHvCxkep6OMz"
      },
      "outputs": [],
      "source": [
        "camera = data.camera()\n",
        "fig, axs = plt.subplots(2, 2, figsize=(15, 15))\n",
        "axs[0, 0].imshow(camera, cmap=\"gray\", vmin=0, vmax=255)\n",
        "\n",
        "sobel_x = np.array([[+1, 0, -1], [+2, 0, -2], [+1, 0, -1]])\n",
        "\n",
        "sobel_y = sobel_x.T\n",
        "\n",
        "gx = conv(camera, sobel_x, pad=1)\n",
        "axs[0, 1].imshow(gx, cmap=\"gray\", vmin=0, vmax=255)\n",
        "\n",
        "gy = conv(camera, sobel_x.T, pad=1)\n",
        "axs[1, 0].imshow(gy, cmap=\"gray\", vmin=0, vmax=255)\n",
        "\n",
        "g = np.sqrt(gx**2 + gy**2)\n",
        "axs[1, 1].imshow(g, cmap=\"gray\", vmin=0, vmax=255)\n",
        "\n",
        "plt.show()"
      ]
    },
    {
      "cell_type": "markdown",
      "metadata": {
        "id": "PtgKzqqm6OMz"
      },
      "source": [
        "## Формат результата"
      ]
    },
    {
      "cell_type": "markdown",
      "metadata": {
        "id": "l3eYZnzk6OM0"
      },
      "source": [
        "Результатом являются 4 изображения, пример:\n",
        "\n",
        "<img src =\"https://edunet.kea.su/repo/EduNet-web_dependencies/dev-2.0/Exercises/EX06/result_1_task_ex06.png\" width=\"500\">\n"
      ]
    },
    {
      "cell_type": "markdown",
      "metadata": {
        "id": "NFNI0otd6OM0"
      },
      "source": [
        "# Задание 2. Создание сверточной сети для  MNIST"
      ]
    },
    {
      "cell_type": "markdown",
      "metadata": {
        "id": "wsTxFDTJ6OM0"
      },
      "source": [
        "Создайте сверточную сеть на PyTorch и обучите ее на MNIST.\n",
        "* Используйте не более трёх [сверточных](https://pytorch.org/docs/stable/generated/torch.nn.Conv2d.html) и не более двух [полносвязных](https://pytorch.org/docs/stable/generated/torch.nn.Linear.html) слоев, а также слои [пулинга](https://pytorch.org/docs/stable/generated/torch.nn.MaxPool2d.html) (слой пулинга и аргумент `stride` у сверточных слоев помогут уменьшить число параметров линейного слоя).\n",
        "* Не применяйте слои других типов.\n",
        "* Функцию активации выберите на свое усмотрение.\n",
        "* Рекомендуется использовать код для обучения из лекции №5.\n",
        "* Отладку кода рекомендуем производить на небольшой части датасета (как обычно)."
      ]
    },
    {
      "cell_type": "markdown",
      "metadata": {
        "id": "kOhFIYg36OM0"
      },
      "source": [
        "Импорт необходимых библиотек:"
      ]
    },
    {
      "cell_type": "code",
      "execution_count": null,
      "metadata": {
        "id": "0_pm7D8n6OM0"
      },
      "outputs": [],
      "source": [
        "import torch\n",
        "import torch.nn as nn\n",
        "from torch.nn.modules.pooling import MaxPool2d\n",
        "from torchvision import datasets, transforms, utils"
      ]
    },
    {
      "cell_type": "markdown",
      "metadata": {
        "id": "glO_Qpe96OM0"
      },
      "source": [
        "Нейронная сеть:"
      ]
    },
    {
      "cell_type": "code",
      "execution_count": null,
      "metadata": {
        "id": "xgnGC8Xl6OM0"
      },
      "outputs": [],
      "source": [
        "class MnistCNN(nn.Module):\n",
        "    def __init__(self, input_shape=(1, 28, 28)):\n",
        "        super().__init__()\n",
        "        self.conv = nn.Sequential(\n",
        "            nn.Conv2d(input_shape[0], 16, kernel_size=3, padding=1),\n",
        "            nn.MaxPool2d(2),\n",
        "            nn.ReLU(),\n",
        "            nn.Conv2d(16, 32, kernel_size=3, padding=1),\n",
        "            nn.MaxPool2d(2),\n",
        "            nn.ReLU(),\n",
        "            nn.Flatten(),\n",
        "        )\n",
        "\n",
        "        out = self.conv(torch.randn(input_shape).unsqueeze(0))\n",
        "\n",
        "        self.fc = nn.Sequential(\n",
        "            nn.Linear(int(out.shape[1]), 512), nn.ReLU(), nn.Linear(512, 10)\n",
        "        )\n",
        "\n",
        "    def forward(self, x):\n",
        "        x = self.conv(x)\n",
        "        scores = self.fc(x)\n",
        "        return scores"
      ]
    },
    {
      "cell_type": "markdown",
      "metadata": {
        "id": "69pr0cu86OM0"
      },
      "source": [
        "Функция для подсчета точности.\n",
        "Изменять код в данном блоке не требуется."
      ]
    },
    {
      "cell_type": "code",
      "execution_count": null,
      "metadata": {
        "id": "o6qMV4DK6OM0"
      },
      "outputs": [],
      "source": [
        "def get_correct_count(pred, labels):\n",
        "    _, predicted = torch.max(pred.data, 1)\n",
        "    return (predicted.cpu() == labels.cpu()).sum().item()\n",
        "\n",
        "\n",
        "@torch.inference_mode()  # this annotation disable grad computation\n",
        "def validate(model, test_loader, device=\"cpu\"):\n",
        "    correct, total = 0, 0\n",
        "    for imgs, labels in test_loader:\n",
        "        pred = model(imgs.to(device))\n",
        "        total += labels.size(0)\n",
        "        correct += get_correct_count(pred, labels)\n",
        "    return correct / total"
      ]
    },
    {
      "cell_type": "markdown",
      "metadata": {
        "id": "HnrZEVGB6OM1"
      },
      "source": [
        "Загрузите [MNIST](https://pytorch.org/vision/stable/generated/torchvision.datasets.MNIST.html#torchvision.datasets.MNIST):"
      ]
    },
    {
      "cell_type": "code",
      "execution_count": null,
      "metadata": {
        "id": "H7teuSuA6OM1"
      },
      "outputs": [],
      "source": [
        "transform = transforms.Compose(\n",
        "    [transforms.ToTensor(), transforms.Normalize((0.13), (0.3))]\n",
        ")\n",
        "\n",
        "mnist = datasets.MNIST(root=\"./\", train=True, download=True, transform=transform)\n",
        "\n",
        "(\n",
        "    train_set,\n",
        "    val_set,\n",
        ") = torch.utils.data.random_split(\n",
        "    mnist, [50000, 10000], generator=torch.Generator().manual_seed(42)\n",
        ")\n",
        "\n",
        "val_loader = torch.utils.data.DataLoader(val_set, batch_size=512, num_workers=2)\n",
        "train_loader = torch.utils.data.DataLoader(train_set, batch_size=512, num_workers=2)"
      ]
    },
    {
      "cell_type": "markdown",
      "metadata": {
        "id": "I4plS5cO6OM1"
      },
      "source": [
        "Разместите код для обучения в этом блоке.\n",
        "\n",
        "* Используйте GPU. Для этого Вам необходимо в верхней панели выбрать `Среда выполнения > Сменить среду выполнения` и заменить None на GPU.\n",
        "\n",
        "* Для оценки точности используйте функцию `validate`.\n",
        "\n",
        "* Подумайте над тем, чтобы поместить код для обучения в функцию или класс, который вы сможете использовать в следующих заданиях."
      ]
    },
    {
      "cell_type": "code",
      "execution_count": null,
      "metadata": {
        "id": "hLvSuWG_6OM1"
      },
      "outputs": [],
      "source": [
        "device = torch.device(\"cuda\" if torch.cuda.is_available() else \"cpu\")\n",
        "print(\"Using device:\", device)\n",
        "\n",
        "\n",
        "def train(model, train_loader, val_loader, lr=0.01, epochs=10, title=\"\"):\n",
        "    global device\n",
        "    optimizer = torch.optim.SGD(model.parameters(), lr=lr)  # Weight update\n",
        "    criterion = nn.CrossEntropyLoss()  # Loss function\n",
        "\n",
        "    for epoch in range(epochs):\n",
        "        loss_hist = []\n",
        "        correct, total = 0, 0\n",
        "        for imgs, labels in train_loader:\n",
        "            optimizer.zero_grad()\n",
        "            out = model(imgs.to(device))\n",
        "            correct += get_correct_count(out.cpu(), labels)\n",
        "            loss = criterion(out, labels.to(device))\n",
        "            loss.backward()\n",
        "            loss_hist.append(loss.item())\n",
        "            optimizer.step()\n",
        "            total += len(labels)\n",
        "        print(\"Loss/train\", np.mean(loss_hist))\n",
        "        print(\"Accuracy/val\", validate(model, val_loader, device=device))\n",
        "        print(\"Accuracy/train\", correct / total)"
      ]
    },
    {
      "cell_type": "code",
      "execution_count": null,
      "metadata": {
        "id": "JUs0JLcT6OM1"
      },
      "outputs": [],
      "source": [
        "%%time\n",
        "model = MnistCNN()\n",
        "model.to(device)\n",
        "model.train()\n",
        "train(model, train_loader, val_loader, lr=0.01, epochs=6)"
      ]
    },
    {
      "cell_type": "markdown",
      "metadata": {
        "id": "rq3lYzTW6OM1"
      },
      "source": [
        "Оценка результата на тестовой выборке:"
      ]
    },
    {
      "cell_type": "code",
      "execution_count": null,
      "metadata": {
        "id": "9KZF0vvJ6OM1"
      },
      "outputs": [],
      "source": [
        "testset = datasets.MNIST(root=\"./\", train=False, download=True, transform=transform)\n",
        "test_loader = torch.utils.data.DataLoader(testset, batch_size=512, shuffle=True)\n",
        "accuracy = validate(model, test_loader, device)\n",
        "\n",
        "print(f\"Accuracy on TEST {accuracy:.2f}\")"
      ]
    },
    {
      "cell_type": "markdown",
      "metadata": {
        "id": "6MSDvB_t6OM1"
      },
      "source": [
        "## Формат результата"
      ]
    },
    {
      "cell_type": "markdown",
      "metadata": {
        "id": "BHIjzV3h6OM1"
      },
      "source": [
        "Результатом является сверточная сеть, обученная на MNIST, с точностью не ниже 0.9"
      ]
    },
    {
      "cell_type": "markdown",
      "metadata": {
        "id": "eHpJLzVL6OM1"
      },
      "source": [
        "# Задание 3. Переход на Lightning"
      ]
    },
    {
      "cell_type": "markdown",
      "metadata": {
        "id": "LFdKDdK_6OM1"
      },
      "source": [
        "При обучении моделей в PyTorch нам постоянно приходится переписывать цикл обучения (train loop). Это дублирование кода, которое нарушает принцип [DRY](https://en.wikipedia.org/wiki/Don%27t_repeat_yourself).\n",
        "\n",
        "Кроме того, нам нужно следить за процессом обучения модели. Например, если loss взрывается или выходит на плато, как правило, есть смысл остановить обучение. Чтобы контролировать этот процесс, приходится добавлять дополнительный код для вывода и/или логирования метрик.\n",
        "\n",
        "При проведении реальных экспериментов логирование результатов станет необходимым. И в этом задании вы научитесь работать с фреймворком [Lightning](https://lightning.ai/), который облегчает написание train loop, логирование результатов, и.т.п."
      ]
    },
    {
      "cell_type": "markdown",
      "metadata": {
        "id": "rGPGct-z6OM2"
      },
      "source": [
        "Подзадачи:\n",
        "\n",
        "1. Перепишите tain loop из задания №2 с использованием фреймворка [Lightning](https://lightning.ai/).\n",
        "2. Выберите [один из инструментов для работы с логами](https://lightning.ai/docs/pytorch/stable/extensions/logging.html), который поддерживат Lightning, и инициализируйте его.\n",
        "3. Обучите модель из второго задания. В процессе обучения сохраняйте в лог значения accuracy/train, accuracy/val и loss/train на каждой эпохе.\n",
        "4. Выведите графики метрик, собранных во время выполнения п.3\n",
        "\n",
        "\n",
        "Можно использовать пакет [torchmetrics](https://torchmetrics.readthedocs.io/en/stable/).\n",
        "\n",
        "[Дополнительная информация про логирование метрик](https://lightning.ai/docs/pytorch/stable/extensions/logging.html#automatic-logging)"
      ]
    },
    {
      "cell_type": "markdown",
      "metadata": {
        "id": "1zspamkE6OM2"
      },
      "source": [
        "Установка и импорт необходимых библиотек"
      ]
    },
    {
      "cell_type": "code",
      "execution_count": null,
      "metadata": {
        "id": "JbVOnMxI6OM2"
      },
      "outputs": [],
      "source": [
        "!pip install -q lightning torchmetrics tbparse"
      ]
    },
    {
      "cell_type": "code",
      "execution_count": null,
      "metadata": {
        "id": "l7tT9N596OM2"
      },
      "outputs": [],
      "source": [
        "import torch\n",
        "import torchmetrics\n",
        "import lightning as L\n",
        "import torch.nn as nn\n",
        "import matplotlib.pyplot as plt\n",
        "\n",
        "from torch import optim\n",
        "from tbparse import SummaryReader\n",
        "from torch.nn.modules.pooling import MaxPool2d\n",
        "from torchvision import datasets, transforms, utils"
      ]
    },
    {
      "cell_type": "markdown",
      "metadata": {
        "id": "BAVF5i806OM2"
      },
      "source": [
        "### Запуск Tensorboard\n",
        "\n",
        "По умолчанию Lightning иcпользует [Tensorboard](https://github.com/Gan4x4/ml_snippets/blob/main/Training/Tensorboard.ipynb)\n"
      ]
    },
    {
      "cell_type": "code",
      "execution_count": null,
      "metadata": {
        "id": "pYDBOiMY6OM2"
      },
      "outputs": [],
      "source": [
        "# colab magic command, run only once\n",
        "%load_ext tensorboard"
      ]
    },
    {
      "cell_type": "markdown",
      "metadata": {
        "id": "667rb7Fv6OM3"
      },
      "source": [
        "Попробуем его запустить"
      ]
    },
    {
      "cell_type": "code",
      "execution_count": null,
      "metadata": {
        "id": "HKjUD-Nc6OM3"
      },
      "outputs": [],
      "source": [
        "# %reload_ext tensorboard\n",
        "\n",
        "%tensorboard --logdir lightning_logs"
      ]
    },
    {
      "cell_type": "markdown",
      "metadata": {
        "id": "BXx_CZWP6OM3"
      },
      "source": [
        "Tensorboard не всегда корректно открывается в colab. Если вы видите в окне выше ошибку, используйте другой логгер, например [WandB](https://lightning.ai/docs/pytorch/stable/extensions/generated/lightning.pytorch.loggers.WandbLogger.html#lightning.pytorch.loggers.WandbLogger)."
      ]
    },
    {
      "cell_type": "markdown",
      "metadata": {
        "id": "VisrawyO6OM3"
      },
      "source": [
        "### Код LightningModule\n",
        "\n",
        "Этим кодом мы заменим наш train loop из второго задания. Ваша задача — дописать недостающий код."
      ]
    },
    {
      "cell_type": "code",
      "execution_count": null,
      "metadata": {
        "id": "r45TKRGd6OM3"
      },
      "outputs": [],
      "source": [
        "import lightning as L\n",
        "from torch import optim\n",
        "import torchmetrics\n",
        "\n",
        "\n",
        "class LitBasic(L.LightningModule):\n",
        "    def __init__(self, model):\n",
        "        super().__init__()\n",
        "        self.model = model\n",
        "        self.criterion = nn.CrossEntropyLoss()\n",
        "        self.train_acc = torchmetrics.Accuracy(task=\"multiclass\", num_classes=10)\n",
        "        self.valid_acc = torchmetrics.Accuracy(task=\"multiclass\", num_classes=10)\n",
        "\n",
        "    def configure_optimizers(self):\n",
        "        optimizer = torch.optim.SGD(self.parameters(), lr=0.01)\n",
        "        return optimizer\n",
        "\n",
        "    def training_step(self, batch, batch_idx):\n",
        "        x, y = batch\n",
        "        out = self.model(x)\n",
        "        loss = self.criterion(out, y)\n",
        "        self.train_acc.update(out, y)\n",
        "        self.log(\"loss\", loss, prog_bar=True)\n",
        "        return loss\n",
        "\n",
        "    def validation_step(self, batch, batch_idx):\n",
        "        x, y = batch\n",
        "        out = self.model(x)\n",
        "        self.valid_acc.update(out, y)\n",
        "\n",
        "    def on_train_epoch_end(self):\n",
        "        self.log(\"accuracy/train\", self.train_acc.compute(), prog_bar=True)\n",
        "        self.train_acc.reset()\n",
        "\n",
        "    def on_validation_epoch_end(self):\n",
        "        self.log(\"accuracy/val\", self.valid_acc.compute(), prog_bar=True)\n",
        "        self.valid_acc.reset()"
      ]
    },
    {
      "cell_type": "markdown",
      "metadata": {
        "id": "-DjmGpdU6OM3"
      },
      "source": [
        "### Подготовка датасета"
      ]
    },
    {
      "cell_type": "code",
      "execution_count": null,
      "metadata": {
        "id": "-_UbYCCT6OM3"
      },
      "outputs": [],
      "source": [
        "transform = transforms.Compose(\n",
        "    [transforms.ToTensor(), transforms.Normalize((0.13), (0.3))]\n",
        ")\n",
        "\n",
        "mnist = datasets.MNIST(root=\"./\", train=True, download=True, transform=transform)\n",
        "\n",
        "train_set, val_set, _ = torch.utils.data.random_split(mnist, [10000, 3000, 47000])\n",
        "\n",
        "val_loader = torch.utils.data.DataLoader(val_set, batch_size=256, num_workers=2)\n",
        "train_loader = torch.utils.data.DataLoader(train_set, batch_size=256, num_workers=2)"
      ]
    },
    {
      "cell_type": "code",
      "execution_count": null,
      "metadata": {
        "id": "5sUU6fFj6OM3"
      },
      "outputs": [],
      "source": [
        "L.seed_everything(42)\n",
        "model = MnistCNN()\n",
        "lit_model = LitBasic(model)\n",
        "trainer = L.Trainer(max_epochs=10, log_every_n_steps=5)\n",
        "trainer.fit(model=lit_model, train_dataloaders=train_loader, val_dataloaders=val_loader)"
      ]
    },
    {
      "cell_type": "markdown",
      "metadata": {
        "id": "5XnH7Bdd6OM3"
      },
      "source": [
        "Полученные логи можно конвертировать в pandas при помощи [tbparse](https://github.com/j3soon/tbparse) и отобразить, используя matplotlib.\n",
        "\n",
        "Чтобы получить таблицу, где названия метрик соответствуют названиям столбцов, используем параметр `pivot=True`."
      ]
    },
    {
      "cell_type": "code",
      "execution_count": null,
      "metadata": {
        "id": "SkzKTa696OM3"
      },
      "outputs": [],
      "source": [
        "from tbparse import SummaryReader\n",
        "\n",
        "log_dir = trainer.logger.experiment.get_logdir()  # lightning_logs/version_x\n",
        "\n",
        "reader = SummaryReader(log_dir, pivot=True)\n",
        "df = reader.scalars\n",
        "df.head()"
      ]
    },
    {
      "cell_type": "code",
      "execution_count": null,
      "metadata": {
        "id": "a9cCbcG86OM3"
      },
      "outputs": [],
      "source": [
        "plt.figure(figsize=(16, 3))\n",
        "\n",
        "\n",
        "def drop_nan(df, tag):\n",
        "    return df[~df[tag].isna()].loc[:, tag]\n",
        "\n",
        "\n",
        "plt.subplot(1, 2, 1).set_title(\"Accuracy\")\n",
        "\n",
        "plt.plot(drop_nan(df, \"accuracy/train\"), label=\"train\")\n",
        "plt.plot(drop_nan(df, \"accuracy/val\"), label=\"val\")\n",
        "plt.legend(loc=\"lower right\")\n",
        "\n",
        "plt.subplot(1, 2, 2).set_title(\"Train loss\")\n",
        "plt.plot(drop_nan(df, \"loss\"))\n",
        "plt.show()"
      ]
    },
    {
      "cell_type": "markdown",
      "metadata": {
        "id": "VM3KkLA66OM3"
      },
      "source": [
        "## Формат результата"
      ]
    },
    {
      "cell_type": "markdown",
      "metadata": {
        "id": "4KUIWQ_H6OM3"
      },
      "source": [
        "Результатом является график, отрисованный при помощи выбранного вами инструмента. Пример:\n",
        "\n",
        "<img src =\"https://edunet.kea.su/repo/EduNet-web_dependencies/dev-2.0/Exercises/EX06/result_3_task_ex06.png\" width=\"800\">\n"
      ]
    },
    {
      "cell_type": "markdown",
      "metadata": {
        "id": "K38yBjlU6OM4"
      },
      "source": [
        "# Задание 4. Собственные аугментации"
      ]
    },
    {
      "cell_type": "markdown",
      "metadata": {
        "id": "P9ZuEI4d6OM4"
      },
      "source": [
        "В этом задании предлагается применить к датасету CIFAR-10 аугментации и визуализировать получившиеся результаты. Требуется воспользоваться готовыми аугментациями из `torchvision.transforms`, а также реализовать собственный метод для аугментации изображений."
      ]
    },
    {
      "cell_type": "markdown",
      "metadata": {
        "id": "o8-h4I9z6OM4"
      },
      "source": [
        "Импорт необходимых библиотек:"
      ]
    },
    {
      "cell_type": "code",
      "execution_count": null,
      "metadata": {
        "id": "qK2sHhPG6OM4"
      },
      "outputs": [],
      "source": [
        "import torchvision\n",
        "import numpy as np\n",
        "import matplotlib.pyplot as plt\n",
        "from torch.utils.data import DataLoader\n",
        "from torchvision import datasets, transforms"
      ]
    },
    {
      "cell_type": "markdown",
      "metadata": {
        "id": "53MvpDq66OM4"
      },
      "source": [
        "Функция для вывода изображений:"
      ]
    },
    {
      "cell_type": "code",
      "execution_count": null,
      "metadata": {
        "id": "WT9ptSbF6OM4"
      },
      "outputs": [],
      "source": [
        "def show_images(dataset, tag, img_count=32):\n",
        "    \"\"\"\n",
        "    Helper method to display first img_count images from dataset\n",
        "    \"\"\"\n",
        "\n",
        "    loader = DataLoader(dataset, batch_size=img_count)\n",
        "\n",
        "    # Get first batch from dataloader\n",
        "    dataiter = iter(loader)\n",
        "    images, labels = next(dataiter)\n",
        "\n",
        "    # create grid of images\n",
        "    img_grid = torchvision.utils.make_grid(images)\n",
        "\n",
        "    # plot\n",
        "    plt.figure(figsize=(10, 7))\n",
        "    plt.imshow(img_grid.permute((1, 2, 0)))\n",
        "    plt.title(tag)\n",
        "    plt.axis(\"off\")\n",
        "    plt.show()"
      ]
    },
    {
      "cell_type": "markdown",
      "metadata": {
        "id": "gDTl7Gqn6OM4"
      },
      "source": [
        "Загрузите CIFAR-10 и:\n",
        "\n",
        "* выберите два преобразования из [списка](https://pytorch.org/vision/stable/transforms.html),\n",
        "* примените их к изображениям из датасета,\n",
        "* выведите измененные изображения."
      ]
    },
    {
      "cell_type": "code",
      "execution_count": null,
      "metadata": {
        "id": "X99UYuuQ6OM4"
      },
      "outputs": [],
      "source": [
        "testset = datasets.CIFAR10(\n",
        "    \"content\",\n",
        "    train=False,\n",
        "    transform=transforms.Compose([transforms.ToTensor()]),\n",
        "    download=True,\n",
        ")\n",
        "\n",
        "show_images(testset, \"Without augmentation\")"
      ]
    },
    {
      "cell_type": "code",
      "execution_count": null,
      "metadata": {
        "id": "EPyzjCmR6OM4"
      },
      "outputs": [],
      "source": [
        "base_augmentation = transforms.Compose(\n",
        "    [\n",
        "        # Your code here\n",
        "        transforms.ToTensor(),\n",
        "        transforms.RandomHorizontalFlip(),\n",
        "        transforms.RandomErasing(),  # some augmentations work only with tensors\n",
        "    ]\n",
        ")\n",
        "\n",
        "testset.transform = base_augmentation\n",
        "show_images(testset, \"Flip and cutout\")"
      ]
    },
    {
      "cell_type": "markdown",
      "metadata": {
        "id": "f3ib_NAU6OM4"
      },
      "source": [
        "## Создание собственной аугментации\n",
        "* Создайте собственную аугментацию, которой нет в `torchvision.transforms`. Например, сделайте изображение квадратным при помощи padding, или обнулите чать пикселей, или уменьшите изображение и затем восстановите его до прежнего размера ...\n",
        "\n",
        "* Выведите измененные изображения. При использовании функции `show_images` обратите внимание, что список трансформаций должен содержать `transforms.ToTensor()`."
      ]
    },
    {
      "cell_type": "code",
      "execution_count": null,
      "metadata": {
        "id": "cXoqxMI76OM4"
      },
      "outputs": [],
      "source": [
        "# Your code here\n",
        "\n",
        "\n",
        "class DropPixel:  # fill pixel with black color with probability p\n",
        "    def __init__(self, p=0.1):\n",
        "        self.p = p\n",
        "\n",
        "    def __call__(self, pil):\n",
        "        np_im = np.array(pil)\n",
        "        # create random mask\n",
        "        ind = np.random.choice(a=[True, False], size=pil.size, p=[self.p, 1 - self.p])\n",
        "        np_im[ind] = [0, 0, 0]  # black\n",
        "        return np_im\n",
        "\n",
        "\n",
        "custom_augmentation = transforms.Compose(\n",
        "    [\n",
        "        # Your code here\n",
        "        DropPixel(0.2),\n",
        "        transforms.ToTensor(),\n",
        "    ]\n",
        ")\n",
        "\n",
        "testset.transform = custom_augmentation\n",
        "show_images(testset, \"DropPixel\")"
      ]
    },
    {
      "cell_type": "markdown",
      "metadata": {
        "id": "X0AlbUBi6OM4"
      },
      "source": [
        "## Формат результата\n",
        "\n",
        "* без аугментаций,\n",
        "* с двумя аугментациями из torchvision,\n",
        "* со своей собственной аугментацией."
      ]
    },
    {
      "cell_type": "markdown",
      "metadata": {
        "id": "X3noFVjp6OM4"
      },
      "source": [
        "# Задание 5. Создание сверточной сети для CIFAR-10"
      ]
    },
    {
      "cell_type": "markdown",
      "metadata": {
        "id": "efp5YwBS6OM4"
      },
      "source": [
        "Создайте сверточную сеть на PyTorch и обучите ее на СIFAR-10. Цель — получить лучшее качество, чем у полносвязной сети, которую мы обучали в 5-й лекции.\n",
        "\n",
        "* Используйте не более трёх [сверточных](https://pytorch.org/docs/stable/generated/torch.nn.Conv2d.html) и не более двух [полносвязных](https://pytorch.org/docs/stable/generated/torch.nn.Linear.html) слоев, а также один слой [пулинга](https://pytorch.org/docs/stable/generated/torch.nn.MaxPool2d.html) между ними (слой пулинга и аргумент `stride` у сверточных слоев помогут избежать большой размерности на входе в линейный слой).\n",
        "* Не применяйте слои других типов.\n",
        "* Функцию активации выберите на свое усмотрение.\n",
        "* Допустимо применить аугментации к входным данным."
      ]
    },
    {
      "cell_type": "markdown",
      "metadata": {
        "id": "_oEXaMYd6OM5"
      },
      "source": [
        "Импорт необходимых библиотек:"
      ]
    },
    {
      "cell_type": "code",
      "execution_count": null,
      "metadata": {
        "id": "Gm-5SPJt6OM5"
      },
      "outputs": [],
      "source": [
        "import torch\n",
        "import torchmetrics\n",
        "import torch.nn as nn\n",
        "import lightning as L\n",
        "\n",
        "from torch import optim\n",
        "from torchsummary import summary\n",
        "from torch.nn.modules.pooling import MaxPool2d\n",
        "from torchvision import datasets, transforms, utils"
      ]
    },
    {
      "cell_type": "markdown",
      "metadata": {
        "id": "hNnNuoah6OM5"
      },
      "source": [
        "Завершите реализацию модели"
      ]
    },
    {
      "cell_type": "code",
      "execution_count": null,
      "metadata": {
        "id": "mzlq6FDG6OM5"
      },
      "outputs": [],
      "source": [
        "class CifarCNN(nn.Module):\n",
        "    def __init__(self, input_shape=(3, 32, 32)):\n",
        "        super().__init__()\n",
        "        self.conv = nn.Sequential(\n",
        "            nn.Conv2d(3, 16, kernel_size=3, padding=1, stride=1),\n",
        "            nn.MaxPool2d(2),\n",
        "            nn.ReLU(),\n",
        "            nn.Conv2d(16, 32, kernel_size=3, stride=1, padding=1),\n",
        "            nn.ReLU(),\n",
        "            nn.Conv2d(32, 64, kernel_size=3, stride=1, padding=1),\n",
        "            nn.MaxPool2d(2),\n",
        "            nn.Flatten(),\n",
        "        )\n",
        "\n",
        "        out = self.conv(torch.randn(input_shape).unsqueeze(0))\n",
        "\n",
        "        self.fc = nn.Sequential(\n",
        "            nn.Linear(int(out.shape[1]), 1024), nn.ReLU(), nn.Linear(1024, 10)\n",
        "        )\n",
        "\n",
        "    def forward(self, x):\n",
        "        x = self.conv(x)\n",
        "        scores = self.fc(x)\n",
        "        return scores"
      ]
    },
    {
      "cell_type": "code",
      "execution_count": null,
      "metadata": {
        "id": "kET2XVf86OM5"
      },
      "outputs": [],
      "source": [
        "from torchsummary import summary\n",
        "\n",
        "model = CifarCNN()\n",
        "model.cpu()\n",
        "summary(model, (3, 32, 32), device=\"cpu\")"
      ]
    },
    {
      "cell_type": "markdown",
      "metadata": {
        "id": "fKPzVBXj6OM5"
      },
      "source": [
        "Загрузите CIFAR-10:"
      ]
    },
    {
      "cell_type": "code",
      "execution_count": null,
      "metadata": {
        "id": "S9K_fEA16OM5"
      },
      "outputs": [],
      "source": [
        "train_transform = transforms.Compose(\n",
        "    [\n",
        "        transforms.ToTensor(),\n",
        "        transforms.Normalize([0.4914, 0.4822, 0.4465], [0.2470, 0.2434, 0.2615]),\n",
        "        transforms.RandomErasing(),\n",
        "    ]\n",
        ")\n",
        "\n",
        "cifar = datasets.CIFAR10(\n",
        "    root=\"./\", train=True, download=True, transform=train_transform\n",
        ")\n",
        "\n",
        "cifar_train_set, cifar_val_set = torch.utils.data.random_split(cifar, [45000, 5000])\n",
        "\n",
        "cifar_train_loader = torch.utils.data.DataLoader(\n",
        "    cifar_train_set, batch_size=256, shuffle=True, num_workers=2\n",
        ")\n",
        "cifar_val_loader = torch.utils.data.DataLoader(\n",
        "    cifar_val_set, batch_size=256, num_workers=2\n",
        ")"
      ]
    },
    {
      "cell_type": "markdown",
      "metadata": {
        "id": "8hrMQTmA6OM5"
      },
      "source": [
        "Разместите код для обучения в этом блоке.\n",
        "\n",
        "* Используйте GPU. Для этого Вам необходимо в верхней панели выбрать `Среда выполнения > Сменить среду выполнения` и заменить `Hardware accelerator` на T4 GPU или другой доступный GPU ускоритель.\n",
        "\n",
        "* Используйте Lightning. Рекомендуем унаследоваться от класса `LitBasic` из задания №3 и реализовать в классе-наследнике методы для проверки результатов на тестовом датасете. Можете использовать `self.valid_acc` или определить другой атрибут класса."
      ]
    },
    {
      "cell_type": "code",
      "execution_count": null,
      "metadata": {
        "id": "_HqktWtr6OM5"
      },
      "outputs": [],
      "source": [
        "class LitTest(LitBasic):\n",
        "    def __init__(self, model):\n",
        "        super().__init__(model)\n",
        "\n",
        "    def test_step(self, batch, batch_idx):\n",
        "        x, y = batch\n",
        "        out = self.model(x)\n",
        "        self.valid_acc.update(out, y)\n",
        "\n",
        "    def on_test_epoch_end(self):\n",
        "        self.log(\"accuracy/test\", self.valid_acc.compute(), prog_bar=True)\n",
        "        self.valid_acc.reset()"
      ]
    },
    {
      "cell_type": "code",
      "execution_count": null,
      "metadata": {
        "id": "N1KgHysE6OM6"
      },
      "outputs": [],
      "source": [
        "L.seed_everything(42)\n",
        "cifar_model = CifarCNN()\n",
        "cifar_lit_model = LitTest(cifar_model)\n",
        "trainer = L.Trainer(max_epochs=25)"
      ]
    },
    {
      "cell_type": "code",
      "execution_count": null,
      "metadata": {
        "id": "pCQtdnim6OM6"
      },
      "outputs": [],
      "source": [
        "trainer.fit(\n",
        "    model=cifar_lit_model,\n",
        "    train_dataloaders=cifar_train_loader,\n",
        "    val_dataloaders=cifar_val_loader,\n",
        ")"
      ]
    },
    {
      "cell_type": "markdown",
      "metadata": {
        "id": "uJQFlMQ06OM6"
      },
      "source": [
        "## Оценка результата на тестовой выборке"
      ]
    },
    {
      "cell_type": "code",
      "execution_count": null,
      "metadata": {
        "id": "KG-LOXVO6OM6"
      },
      "outputs": [],
      "source": [
        "test_transform = transforms.Compose(\n",
        "    [\n",
        "        transforms.ToTensor(),\n",
        "        transforms.Normalize([0.4914, 0.4822, 0.4465], [0.2470, 0.2434, 0.2615]),\n",
        "        # No augmentation on test\n",
        "    ]\n",
        ")\n",
        "\n",
        "cifar_test = datasets.CIFAR10(\n",
        "    root=\"./\", train=False, download=True, transform=test_transform\n",
        ")\n",
        "\n",
        "test_loader = torch.utils.data.DataLoader(cifar_test, batch_size=256, num_workers=2)"
      ]
    },
    {
      "cell_type": "code",
      "execution_count": null,
      "metadata": {
        "id": "ZhzgiCHw6OM6"
      },
      "outputs": [],
      "source": [
        "# Load the best checkpoint automatically (lightning tracks this for you)\n",
        "trainer.test(\n",
        "    model=cifar_lit_model, dataloaders=test_loader, verbose=True, ckpt_path=\"best\"\n",
        ")"
      ]
    },
    {
      "cell_type": "markdown",
      "metadata": {
        "id": "YNZt9QTq6OM6"
      },
      "source": [
        "## Формат результата"
      ]
    },
    {
      "cell_type": "markdown",
      "metadata": {
        "id": "zLWTQlMk6OM6"
      },
      "source": [
        "Результатом является сверточная сеть, обученная на CIFAR-10, с точностью не ниже 0.6"
      ]
    }
  ],
  "metadata": {
    "colab": {
      "provenance": [],
      "toc_visible": true
    }
  },
  "nbformat": 4,
  "nbformat_minor": 0
}