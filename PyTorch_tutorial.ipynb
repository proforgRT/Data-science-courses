{
  "nbformat": 4,
  "nbformat_minor": 0,
  "metadata": {
    "colab": {
      "provenance": [],
      "toc_visible": true
    },
    "kernelspec": {
      "name": "python3",
      "display_name": "Python 3"
    },
    "language_info": {
      "name": "python"
    },
    "accelerator": "GPU",
    "gpuClass": "standard"
  },
  "cells": [
    {
      "cell_type": "markdown",
      "metadata": {
        "id": "_GjeLLGq7hOv"
      },
      "source": [
        "# Углубление в PyTorch. Пример нейронной сети на MNIST\n",
        "\n",
        "Данный раздел вдохновлен руководством PyTorch [Learn the basics tutorial](https://pytorch.org/tutorials/beginner/basics/intro.html), которое было переведено и адаптировано."
      ]
    },
    {
      "cell_type": "markdown",
      "source": [
        "*Это руководство предполагает базовое знакомство с PyTorch, концепциями нейронных сетей, а также с такими понятиями, как граф вычислений и дифференцирование на нем.*\n",
        "\n",
        "*Полезные материалы для предварительного ознакомления:*\n",
        "\n",
        "[*Граф вычислений и дифференцирование на нем*](https://edunet.kea.su/repo/msu_ai/html/L05_Neural_networks.html#Граф-вычислений)\n",
        "\n",
        "[*Введение в PyTorch*](https://edunet.kea.su/repo/msu_ai/html/L05_Neural_networks.html#Введение-в-PyTorch)\n",
        "\n",
        "[*Тензоры в PyTorch*](https://pytorch.org/tutorials/beginner/basics/tensorqs_tutorial.html)\n",
        "\n",
        "[*Автоматическое дифференцирование с* `torch.autograd`](https://pytorch.org/tutorials/beginner/basics/autogradqs_tutorial.html)"
      ],
      "metadata": {
        "id": "pjbWOvY374EN"
      }
    },
    {
      "cell_type": "markdown",
      "metadata": {
        "id": "d1MB6lHw7hOv"
      },
      "source": [
        "Решение задачи с применением методов машинного обучения обычно включает в себя работу с данными, создание моделей, оптимизацию их параметров в процессе обучения и сохранение обученных моделей. В этом руководстве вы познакомитесь с полным циклом решения ML-задачи, реализованным в PyTorch.\n",
        "\n",
        "Мы будем использовать набор данных [MNIST](http://yann.lecun.com/exdb/mnist/) для обучения полносвязной нейронной сети, которая распознает рукописные цифры на небольших черно-белых изображениях."
      ]
    },
    {
      "cell_type": "markdown",
      "metadata": {
        "id": "XNEj7D297hOv"
      },
      "source": [
        "## Dataset и DataLoader"
      ]
    },
    {
      "cell_type": "markdown",
      "metadata": {
        "id": "ocSMCCCd7hOv"
      },
      "source": [
        "<img src=\"https://edunet.kea.su/repo/EduNet-additions/PT/dataset_dataloader.png\" width=\"1000\">"
      ]
    },
    {
      "cell_type": "markdown",
      "metadata": {
        "id": "53AdOQqK7hOw"
      },
      "source": [
        "Предварительная обработка данных часто сильно зависит от домена, предметной области, самих данных. В идеале мы бы хотели, чтобы код, относящийся к предварительной работе с данными, был отделен от кода для обучения модели для его лучшей читаемости и модульности.\n",
        "\n",
        "PyTorch предоставляет два базовых класса для работы с данными: `torch.utils.data.Dataset` и `torch.utils.data.DataLoader`, которые позволяют работать как со встроенными наборами данных, так и с вашими собственными данными.\n",
        "\n",
        "`Dataset` хранит в себе объекты (samples, сэмплы) — например, изображения и соответствующие им метки (labels, targets).\n",
        "\n",
        "`DataLoader` представляет из себя итерируемый объект — обертку над `Dataset`-ом, и позволяет получить простой доступ к объектам и меткам из набора данных в виде мини-батчей.\n"
      ]
    },
    {
      "cell_type": "markdown",
      "metadata": {
        "id": "R3QphiwR7hOw"
      },
      "source": [
        "Библиотеки из семейства PyTorch предоставляют ряд предзагруженных наборов данных (например, таких как MNIST), которые реализованы как дочерние классы от `torch.utils.data.Dataset` и несут в себе функции, специфичные для конкретных данных. Эти наборы данных могут быть использованы как бенчмарк для отладки и оценки вашей модели или в учебных целях. Вы можете найти их здесь: [Image Datasets](https://pytorch.org/vision/stable/datasets.html), [Text Datasets](https://pytorch.org/text/stable/datasets.html), и [Audio Datasets](https://pytorch.org/audio/stable/datasets.html)."
      ]
    },
    {
      "cell_type": "markdown",
      "metadata": {
        "id": "UGY694Kw7hOw"
      },
      "source": [
        "### Загрузка набора данных"
      ]
    },
    {
      "cell_type": "markdown",
      "metadata": {
        "id": "DiEieoV27hOw"
      },
      "source": [
        "Рассмотрим пример того, как загрузить набор данных MNIST, который содержится в [`torchvision.datasets`](https://pytorch.org/vision/stable/generated/torchvision.datasets.MNIST.html#torchvision.datasets.MNIST). MNIST включает в себя 60&nbsp;000 изображений для обучения и 10&nbsp;000 изображений для теста, размеченных на 10 классов — по числу цифр. Каждый пример представляет собой изображение размером 28×28 пикселей в оттенках серого (то есть изображения одноканальные). Каждое изображение имеет метку класса — то, какая цифра на нем изображена."
      ]
    },
    {
      "cell_type": "markdown",
      "metadata": {
        "id": "r3dqgd7g7hOw"
      },
      "source": [
        "Загрузим MNIST, указав следующие параметры:\n",
        "* `root` — это путь, куда будут скачаны данные,\n",
        "* `train` определяет, скачивать обучающую или тестовую часть набора данных,\n",
        "* `download=True` позволяет скачать данные из интернета, если их нет в пути `root`,\n",
        "*  `transform` определяет преобразования, которые нужно сделать с данными. Здесь мы сразу указываем `transform=ToTensor()`, чтобы перевести входные данные (изображения) в формат `torch.Tensor`. Подробнее о трансформациях поговорим далее."
      ]
    },
    {
      "cell_type": "code",
      "execution_count": null,
      "metadata": {
        "id": "_y4-gWMt7hOw",
        "colab": {
          "base_uri": "https://localhost:8080/"
        },
        "outputId": "520f6009-7c23-458d-f808-091ec9d7f701"
      },
      "outputs": [
        {
          "output_type": "stream",
          "name": "stdout",
          "text": [
            "Train data info:\n",
            " Dataset MNIST\n",
            "    Number of datapoints: 60000\n",
            "    Root location: ./MNIST\n",
            "    Split: Train\n",
            "    StandardTransform\n",
            "Transform: ToTensor()\n",
            "\n",
            "Test data info:\n",
            " Dataset MNIST\n",
            "    Number of datapoints: 10000\n",
            "    Root location: ./MNIST\n",
            "    Split: Test\n",
            "    StandardTransform\n",
            "Transform: ToTensor()\n"
          ]
        }
      ],
      "source": [
        "import torch\n",
        "from torchvision import datasets\n",
        "from torchvision.transforms import ToTensor\n",
        "from IPython.display import clear_output\n",
        "\n",
        "train_data = datasets.MNIST(\n",
        "    root=\"./MNIST\", train=True, download=True, transform=ToTensor()\n",
        ")\n",
        "\n",
        "test_data = datasets.MNIST(\n",
        "    root=\"./MNIST\", train=False, download=True, transform=ToTensor()\n",
        ")\n",
        "\n",
        "clear_output()\n",
        "\n",
        "print(\"Train data info:\\n\", train_data)\n",
        "print(\"\\nTest data info:\\n\", test_data)"
      ]
    },
    {
      "cell_type": "markdown",
      "metadata": {
        "id": "LeYa4hCR7hOw"
      },
      "source": [
        "### Итерирование по `Dataset` и визуализация данных"
      ]
    },
    {
      "cell_type": "markdown",
      "metadata": {
        "id": "dhb8qiSr7hOw"
      },
      "source": [
        "Можно обращаться к элементам `Dataset`-а вручную, как в списках или массивах: `dataset[i]`. При таком обращении мы получим кортеж `(sample, label)` из одного объекта и соответствующей ему метки. Воспользуемся matplotlib, чтобы отобразить первые 10 изображений из тестового множества."
      ]
    },
    {
      "cell_type": "code",
      "execution_count": null,
      "metadata": {
        "id": "PyZ8TurN7hOw",
        "colab": {
          "base_uri": "https://localhost:8080/",
          "height": 140
        },
        "outputId": "8a28f3ad-ff89-448c-b3ba-5bd81c16001e"
      },
      "outputs": [
        {
          "output_type": "display_data",
          "data": {
            "text/plain": [
              "<Figure size 2000x2000 with 10 Axes>"
            ],
            "image/png": "[encoded data removed]"
          },
          "metadata": {}
        }
      ],
      "source": [
        "import matplotlib.pyplot as plt\n",
        "\n",
        "num_imgs_to_visualize = 10\n",
        "\n",
        "figure = plt.figure(figsize=(20, 20))\n",
        "\n",
        "for i in range(num_imgs_to_visualize):\n",
        "    # here we indexing the Dataset-object \"as is\" and gettig a tuple (img, label)\n",
        "    img, label = test_data[i]\n",
        "\n",
        "    figure.add_subplot(1, num_imgs_to_visualize, i + 1)\n",
        "    plt.imshow(img.squeeze(), cmap=\"gray\")\n",
        "    plt.title(label)\n",
        "    plt.axis(\"off\")\n",
        "plt.show()"
      ]
    },
    {
      "cell_type": "markdown",
      "metadata": {
        "id": "Wbx20qDC7hOx"
      },
      "source": [
        "### Подготовка данных для обучения с помощью DataLoader"
      ]
    },
    {
      "cell_type": "markdown",
      "metadata": {
        "id": "016VMdZz7hOx"
      },
      "source": [
        "`Dataset` возвращает по одной паре \"объект — метка\" за раз. При обучении моделей мы обычно хотим получать обекты в виде мини-батчей, перемешивая данные на каждой эпохе.\n",
        "\n",
        "`DataLoader` — это объект, который позволяет нам получать такие мини-батчи. При инициализации он принимает в себя объект `Dataset`, а также параметры `batch_size` (размер мини-батча) и `shuffle` (перемешивать ли данные при формировании батчей каждую эпоху).\n",
        "\n",
        "Другие параметры, а также значения по умолчанию можно посмотреть в документации PyTorch для класса [`DataLoader`](https://pytorch.org/docs/stable/data.html#torch.utils.data.DataLoader).\n"
      ]
    },
    {
      "cell_type": "code",
      "execution_count": null,
      "metadata": {
        "id": "7ABj72H67hOx"
      },
      "outputs": [],
      "source": [
        "from torch.utils.data import DataLoader\n",
        "\n",
        "train_dataloader = DataLoader(train_data, batch_size=8, shuffle=True)\n",
        "test_dataloader = DataLoader(test_data, batch_size=8, shuffle=False)"
      ]
    },
    {
      "cell_type": "markdown",
      "metadata": {
        "id": "_aFAYIyO7hOx"
      },
      "source": [
        "Так как мы имели два объекта класса `Dataset`: `train_data` и `test_data`, то мы создаем также и два независимых `DataLoader`-а. Один из них позволит нам получать батчи из обучающей выборки, а другой — из тестовой.\n",
        "\n",
        "Обратите внимание на параметр `shuffle`! По умолчанию он имеет значение `False`. **Для обучения нейронной сети критически важно, чтобы во время обучения данные перемешивались и батчи формировались случайным образом**. Именно так мы вносим **стохастичность** в процесс градиентного спуска. Поэтому для `DataLoader`-a, который будет выдавать батчи для обучения, необходимо использовать `shuffle=True`.\n",
        "\n",
        "В противоположность этому — `DataLoader` для тестовых данных. Тестовые данные служат для оценки качества работы модели, на них не происходит обучение и градиентный спуск. Поэтому установка здесь `shuffle=True` не имеет большого смысла."
      ]
    },
    {
      "cell_type": "markdown",
      "metadata": {
        "id": "1RQ8KWrc7hOx"
      },
      "source": [
        "### Итерирование по `DataLoader`"
      ]
    },
    {
      "cell_type": "markdown",
      "metadata": {
        "id": "Zy_kvP8Z7hOx"
      },
      "source": [
        "Мы загрузили набор данных в `DataLoader`, и теперь можем проходиться по нему по мере необходимости. При каждом обращении к `DataLoader` будет возвращаться мини-батч в виде кортежа тензоров `(samples, labels)`, содержащих `batch_size=8` объектов и меток соответственно.\n",
        "Так как мы установили для `train_dataloader` параметр `shuffle=True`, когда мы пройдемся по всем батчам, данные перемешаются."
      ]
    },
    {
      "cell_type": "code",
      "execution_count": null,
      "metadata": {
        "id": "UK1q4zez7hOx",
        "colab": {
          "base_uri": "https://localhost:8080/",
          "height": 359
        },
        "outputId": "c0a07367-326d-4e38-a580-3e01d46b1018"
      },
      "outputs": [
        {
          "output_type": "stream",
          "name": "stdout",
          "text": [
            "Images batch shape: torch.Size([8, 1, 28, 28]) : [batch_size, num_channels, H, W]\n",
            "Labels batch shape: torch.Size([8])\n",
            "\n",
            "The first sample in the batch:\n"
          ]
        },
        {
          "output_type": "display_data",
          "data": {
            "text/plain": [
              "<Figure size 300x300 with 1 Axes>"
            ],
            "image/png": "[encoded data removed]"
          },
          "metadata": {}
        }
      ],
      "source": [
        "# get one next batch\n",
        "imgs, labels = next(iter(train_dataloader))\n",
        "\n",
        "print(f\"Images batch shape: {imgs.size()} : [batch_size, num_channels, H, W]\")\n",
        "print(f\"Labels batch shape: {labels.size()}\")\n",
        "\n",
        "print(\"\\nThe first sample in the batch:\")\n",
        "img = imgs[0].squeeze()\n",
        "label = labels[0].item()\n",
        "\n",
        "plt.figure(figsize=(3, 3))\n",
        "plt.imshow(img, cmap=\"gray\")\n",
        "plt.title(label)\n",
        "plt.axis(\"off\")\n",
        "plt.show()"
      ]
    },
    {
      "cell_type": "markdown",
      "metadata": {
        "id": "lQR134O27hOx"
      },
      "source": [
        "## Трансформации (Transforms)"
      ]
    },
    {
      "cell_type": "markdown",
      "metadata": {
        "id": "WLurRhAb7hOx"
      },
      "source": [
        "Данные не всегда поступают в том формате, который требуется для работы моделей машинного обучения. Для того, чтобы производить некоторые преобразования с данными и делать их пригодными для обучения, в PyTorch реализован механизм трансформаций (transforms).\n",
        "\n",
        "Все наборы данных в Torchvision имеют два параметра: `transform` — для применения трансформаций к входным данным, и `target_transform` — соответственно для преобразования меток.\n",
        "Эти параметры принимают в себя вызываемые (callable) объекты, содержащие логику преобразований. Модуль [`torchvision.transforms`](https://pytorch.org/vision/stable/transforms.html) предоставляет ряд часто используемых трансформаций \"из коробки\".\n",
        "\n",
        "Важно понимать, что трансформации, указанные в `transform` и `target_transform`, **применяются к данным налету**, то есть в момент обращения к этим данным через `Dataset` или `DataLoader`."
      ]
    },
    {
      "cell_type": "markdown",
      "metadata": {
        "id": "A0XcPIFd7hOy"
      },
      "source": [
        "### ToTensor"
      ]
    },
    {
      "cell_type": "markdown",
      "metadata": {
        "id": "9lyvUMKf7hOy"
      },
      "source": [
        "Изображения в MNIST (и в большинстве других встроенных датасетов) изначально хранятся в формате PIL Image (Python Image Library), а метки представлены как целые числа. Если с метками, представленными таким образом, ничего делать не нужно, то входные данные для обучения необходимо перевести в тензоры. Чтобы произвести эту трансформацию, выше при загрузке данных MNIST мы использовали [`torchvision.transforms.ToTensor`](https://pytorch.org/vision/stable/generated/torchvision.transforms.ToTensor.html#torchvision.transforms.ToTensor).\n",
        "\n",
        "`ToTensor` преобразует PIL Image или NumPy `ndarray` в `FloatTensor` **и масштабирует значения интенсивности пикселей к диапазону $[0., 1.]$**."
      ]
    },
    {
      "cell_type": "markdown",
      "metadata": {
        "id": "Cq2ANzuw7hOy"
      },
      "source": [
        "### Normalize"
      ]
    },
    {
      "cell_type": "markdown",
      "metadata": {
        "id": "tkkJEfYW7hOy"
      },
      "source": [
        "Предположим, что помимо перевода данных в подходящий формат мы бы хотели произвести какие-то преобразования с самими величинами. Скажем, произвести нормализацию: вычесть математическое ожидание и разделить на стандартное отклонение по выборке. Для проведения такой операции в `torchvision.transforms` предусмотрена трансформация [`Normalize`](https://pytorch.org/vision/main/generated/torchvision.transforms.Normalize.html)."
      ]
    },
    {
      "cell_type": "markdown",
      "metadata": {
        "id": "2FqRG-yV7hOy"
      },
      "source": [
        "Два обязательных параметра в этой трансформации — это `mean` и `std`:\n",
        "* `mean` — последовательность математических ожиданий по каждому каналу выборки изображений,\n",
        "* `std` — последовательность стандартных отклонений по каждому каналу выборки изображений.\n",
        "\n",
        "`Normalize` не применяется к PIL Image, поэтому ее необходимо применять после `ToTensor`.\n",
        "\n",
        "Давайте вычислим математическое ожидание и стандартное отклонение для обучающей выборки MNIST. Для этого обратимся к `train_data.data`:"
      ]
    },
    {
      "cell_type": "code",
      "execution_count": null,
      "metadata": {
        "id": "_y-VfEGv7hOy",
        "colab": {
          "base_uri": "https://localhost:8080/"
        },
        "outputId": "c5c6f2b9-472a-4098-8bd3-67f53bd70589"
      },
      "outputs": [
        {
          "output_type": "stream",
          "name": "stdout",
          "text": [
            "train_data.data:\n",
            "Type:  <class 'torch.Tensor'>\n",
            "Size:  torch.Size([60000, 28, 28])\n",
            "Dtype: torch.uint8\n",
            "Max:   255\n",
            "Min:   0\n"
          ]
        }
      ],
      "source": [
        "print(\"train_data.data:\")\n",
        "print(\"Type: \", type(train_data.data))\n",
        "print(\"Size: \", train_data.data.size())\n",
        "print(\"Dtype:\", train_data.data.dtype)\n",
        "print(\"Max:  \", torch.max(train_data.data).item())\n",
        "print(\"Min:  \", torch.min(train_data.data).item())"
      ]
    },
    {
      "cell_type": "markdown",
      "metadata": {
        "id": "dkX3jJHG7hOy"
      },
      "source": [
        "`train_data.data` — тензор целых чисел (`uint8`) c минимальным значением 0 и максимальным значением 255. Функции `torch.mean()` и `torch.std()` выдадут ошибку, если передать им тензор целых чисел. Поэтому изменим тип на вещественный, применив метод `.double()`."
      ]
    },
    {
      "cell_type": "code",
      "execution_count": null,
      "metadata": {
        "id": "no55QP207hOy",
        "colab": {
          "base_uri": "https://localhost:8080/"
        },
        "outputId": "c4945442-fb72-4e8c-b917-5ebecbee95c4"
      },
      "outputs": [
        {
          "output_type": "stream",
          "name": "stdout",
          "text": [
            "mean = 33.32, std = 78.57\n"
          ]
        }
      ],
      "source": [
        "mean = torch.mean(train_data.data.double()).item()\n",
        "std = torch.std(train_data.data.double()).item()\n",
        "print(f\"mean = {mean:.2f}, std = {std:.2f}\")"
      ]
    },
    {
      "cell_type": "markdown",
      "metadata": {
        "id": "ahuOT7me7hOy"
      },
      "source": [
        "Вспомним, что `Normalize` должна применяться после `ToTensor`, которая масштабирует величины в диапазон $[0., 1.]$. Значит, матожидание и стандартное отклонение мы также должны разделить на максимальное значение до масштабирования — на 255."
      ]
    },
    {
      "cell_type": "code",
      "execution_count": null,
      "metadata": {
        "id": "E77zqw3U7hOy",
        "colab": {
          "base_uri": "https://localhost:8080/"
        },
        "outputId": "b880820e-79eb-48a1-d908-4361123ed333"
      },
      "outputs": [
        {
          "output_type": "stream",
          "name": "stdout",
          "text": [
            "Scaled mean = 0.13, std = 0.31\n"
          ]
        }
      ],
      "source": [
        "mean /= 255\n",
        "std /= 255\n",
        "print(f\"Scaled mean = {mean:.2f}, std = {std:.2f}\")"
      ]
    },
    {
      "cell_type": "markdown",
      "metadata": {
        "id": "1VcLAC1L7hOy"
      },
      "source": [
        "### Compose"
      ]
    },
    {
      "cell_type": "markdown",
      "metadata": {
        "id": "Y6CXttD77hOy"
      },
      "source": [
        "Мы вычислили математическое ожидание и стандартное отклонение по обучающей выборке MNIST для применения транcформации `Normalize`. Но мы также помним, что она должна применяться только после `ToTensor`. Как же объединить несколько трансформаций в одну, чтобы они применились последовательно?\n",
        "\n",
        "Для этого предусмотрен класс [`torchvision.transforms.Compose`](https://pytorch.org/vision/main/generated/torchvision.transforms.Compose.html). Его единственный параметр — список принимаемых трансформаций. `Compose` — это контейнер для трансформаций, помещаясь в который они будут применяться одна за одной. В общем случае их может быть сколько угодно. Давайте напишем трансформацию, которая примет в себя две: `ToTensor` и `Normalize`."
      ]
    },
    {
      "cell_type": "code",
      "execution_count": null,
      "metadata": {
        "id": "os_1VQWN7hOz",
        "colab": {
          "base_uri": "https://localhost:8080/"
        },
        "outputId": "d7f6eff4-a09c-40a7-9f9f-3f33eee9a473"
      },
      "outputs": [
        {
          "output_type": "stream",
          "name": "stdout",
          "text": [
            "Compose(\n",
            "    ToTensor()\n",
            "    Normalize(mean=0.1306604762738429, std=0.30810780717887876)\n",
            ")\n"
          ]
        }
      ],
      "source": [
        "from torchvision import transforms\n",
        "\n",
        "transform_with_normalize = transforms.Compose(\n",
        "    [transforms.ToTensor(), transforms.Normalize(mean, std)]\n",
        ")\n",
        "\n",
        "print(transform_with_normalize)"
      ]
    },
    {
      "cell_type": "markdown",
      "metadata": {
        "id": "VF17yeqy7hOz"
      },
      "source": [
        "Остается только подменить у обучающего и тестового датасетов ту трансформацию, которую мы указали при загрузке данных, на нашу новую — с нормализацией. Для этого посмотрим на атрибут `.transform` и изменим его."
      ]
    },
    {
      "cell_type": "code",
      "execution_count": null,
      "metadata": {
        "id": "REsOm5kf7hOz",
        "colab": {
          "base_uri": "https://localhost:8080/"
        },
        "outputId": "63d92886-f1f3-4164-9892-eaa87d5b720b"
      },
      "outputs": [
        {
          "output_type": "stream",
          "name": "stdout",
          "text": [
            "Old train transform: ToTensor()\n",
            "Old test transform: ToTensor()\n",
            "\n",
            "New train transform: Compose(\n",
            "    ToTensor()\n",
            "    Normalize(mean=0.1306604762738429, std=0.30810780717887876)\n",
            ")\n",
            "New test transform: Compose(\n",
            "    ToTensor()\n",
            "    Normalize(mean=0.1306604762738429, std=0.30810780717887876)\n",
            ")\n"
          ]
        }
      ],
      "source": [
        "print(\"Old train transform:\", train_data.transform)\n",
        "print(\"Old test transform:\", test_data.transform)\n",
        "\n",
        "train_data.transform = transform_with_normalize\n",
        "test_data.transform = transform_with_normalize\n",
        "\n",
        "print(\"\\nNew train transform:\", train_data.transform)\n",
        "print(\"New test transform:\", test_data.transform)"
      ]
    },
    {
      "cell_type": "markdown",
      "metadata": {
        "id": "uZ1daISM7hOz"
      },
      "source": [
        "Следует еще раз заметить, что при нормализации мы **вычисляем** оценки математического ожидания и стандартного отклонения `mean` и `std` **на обучающих данных**, а **применяем** вычисленные оценки **и на обучающих, и на тестовых данных**."
      ]
    },
    {
      "cell_type": "markdown",
      "metadata": {
        "id": "-IKEW7o77hOz"
      },
      "source": [
        "Теперь при обращении к данным через `DataLoader` будет происходить следующее:\n",
        "\n",
        "1. Объект `DataLoader` обращается к объекту `Dataset` за данными, чтобы сформировать батч.\n",
        "2. `Dataset` считывает данные, которые хранятся на диске в формате PIL Image, применяет к ним трансформации, указанные в его атрибуте `.transform` (в данном случае это последовательность `ToTensor` и `Normalize`) и возвращает `DataLoader`-у преобразованные данные.\n",
        "3. `DataLoader` формирует из полученных данных батч и возвращает его."
      ]
    },
    {
      "cell_type": "markdown",
      "metadata": {
        "id": "ptsDv3GR7hOz"
      },
      "source": [
        "Обратите внимание, что на диске по-прежнему лежат просто изображения в своем специальном формате, и их довольно много. Но при этом в каждый момент времени мы не храним на диске все изображения как тензоры в сыром виде или в нормализованном. Нужные операции применяются к данным налету, только когда они нужны — при формировании батчей."
      ]
    },
    {
      "cell_type": "markdown",
      "metadata": {
        "id": "1_vcZpE-7hOz"
      },
      "source": [
        "## Создание нейронной сети"
      ]
    },
    {
      "cell_type": "markdown",
      "metadata": {
        "id": "ge8LdWGI7hOz"
      },
      "source": [
        "Нейронные сети состоят из слоев, которые производят преобразования над данными. В PyTorch принято называть слои ***модулями*** (modules), и далее мы тоже будем использовать это название.\n",
        "\n",
        "Пространство имен [`torch.nn`](https://pytorch.org/docs/stable/nn.html) предоставляет \"строительные блоки\", которые нужны для создания своей собственной нейронной сети. Каждый *модуль* в PyTorch является дочерним классом от [`nn.Module`](https://pytorch.org/docs/stable/generated/torch.nn.Module.html). Таким образом, нейронная сеть сама по себе будет являться *модулем*, состоящим из других *модулей* (слоев). Такая вложенная структура позволяет легко создавать сложные архитектуры и управлять ими.\n",
        "\n",
        "Ниже мы рассмотрим пример создания нейронной сети для классификации изображений из набора данных MNIST."
      ]
    },
    {
      "cell_type": "markdown",
      "metadata": {
        "id": "QOjsZBGp7hOz"
      },
      "source": [
        "### Выбор устройства (device) для обучения"
      ]
    },
    {
      "cell_type": "markdown",
      "metadata": {
        "id": "Moxi0JLP7hOz"
      },
      "source": [
        "Мы бы хотели иметь возможность обучать модель на аппаратном ускорителе, таком как GPU, если он доступен. Проверим, доступен ли нам ускоритель [`torch.cuda`](https://pytorch.org/docs/stable/notes/cuda.html), иначе продолжим вычисления на CPU."
      ]
    },
    {
      "cell_type": "code",
      "execution_count": null,
      "metadata": {
        "id": "tfaQPW0n7hOz",
        "colab": {
          "base_uri": "https://localhost:8080/"
        },
        "outputId": "a49e5f58-c9b1-4e37-b40f-6e03be5fbfb7"
      },
      "outputs": [
        {
          "output_type": "stream",
          "name": "stdout",
          "text": [
            "Using cuda device\n"
          ]
        }
      ],
      "source": [
        "import torch\n",
        "\n",
        "device = \"cuda\" if torch.cuda.is_available() else \"cpu\"\n",
        "print(f\"Using {device} device\")"
      ]
    },
    {
      "cell_type": "markdown",
      "metadata": {
        "id": "60nti0sg7hO0"
      },
      "source": [
        "### Описание класса модели"
      ]
    },
    {
      "cell_type": "markdown",
      "metadata": {
        "id": "2uUBdBxO7hO0"
      },
      "source": [
        "Мы определяем нейронную сеть, наследуясь от класса `nn.Module`, и инициализируем ее слои в методе `__init__`. Каждый класс-наследник `nn.Module` производит операции над входными данными в методе `forward`.\n",
        "\n",
        "Напишем собственную нейронную сеть как класс `NeuralNetwork`. Ниже подробно рассмотрим все составляющие ее части."
      ]
    },
    {
      "cell_type": "code",
      "execution_count": null,
      "metadata": {
        "id": "kKjdiZHX7hO0"
      },
      "outputs": [],
      "source": [
        "from torch import nn\n",
        "\n",
        "\n",
        "class NeuralNetwork(nn.Module):\n",
        "    def __init__(self):\n",
        "        super().__init__()\n",
        "        self.flatten = nn.Flatten()\n",
        "        self.layers_stack = nn.Sequential(\n",
        "            nn.Linear(28 * 28, 512),\n",
        "            nn.ReLU(),\n",
        "            nn.Linear(512, 128),\n",
        "            nn.ReLU(),\n",
        "            nn.Linear(128, 10),\n",
        "        )\n",
        "\n",
        "    def forward(self, x):\n",
        "        x = self.flatten(x)\n",
        "        logits = self.layers_stack(x)\n",
        "        return logits"
      ]
    },
    {
      "cell_type": "markdown",
      "metadata": {
        "id": "gp8EO6X-7hO0"
      },
      "source": [
        "Создадим экземпляр класса `NeuralNetwork`, переместим его на `device` с помощью метода `to` и выведем информацию о структуре модели."
      ]
    },
    {
      "cell_type": "code",
      "execution_count": null,
      "metadata": {
        "id": "EfOPOz9W7hO0",
        "colab": {
          "base_uri": "https://localhost:8080/"
        },
        "outputId": "0444ba57-3955-41be-fddf-1fe2dea0aff5"
      },
      "outputs": [
        {
          "output_type": "stream",
          "name": "stdout",
          "text": [
            "NeuralNetwork(\n",
            "  (flatten): Flatten(start_dim=1, end_dim=-1)\n",
            "  (layers_stack): Sequential(\n",
            "    (0): Linear(in_features=784, out_features=512, bias=True)\n",
            "    (1): ReLU()\n",
            "    (2): Linear(in_features=512, out_features=128, bias=True)\n",
            "    (3): ReLU()\n",
            "    (4): Linear(in_features=128, out_features=10, bias=True)\n",
            "  )\n",
            ")\n"
          ]
        }
      ],
      "source": [
        "model = NeuralNetwork().to(device)\n",
        "print(model)"
      ]
    },
    {
      "cell_type": "markdown",
      "metadata": {
        "id": "E8JYKZmP7hO0"
      },
      "source": [
        "Чтобы использовать модель, мы передаем ей входные данные. Это приводит в действие метод `forward`, а также определенные фоновые операции. Не следует вызывать `model.forward` напрямую!\n",
        "\n",
        "Вызов модели с входными данными возвращает тензор с двумя размерностями: нулевая размерность `dim=0` соответствует  количеству переданных примеров, а первая `dim=1` — десяти выходным \"сырым\" предсказаниям (логитам) для каждого класса.\n",
        "\n",
        "Мы можем получить предсказание модели в виде вероятностей, пропустив логиты через экземпляр модуля `nn.Softmax`, вызвав его вычисление вдоль первой размерности `dim=1`."
      ]
    },
    {
      "cell_type": "code",
      "execution_count": null,
      "metadata": {
        "id": "OM5V3NcY7hO0",
        "colab": {
          "base_uri": "https://localhost:8080/"
        },
        "outputId": "6e9d7c35-a082-4c98-817f-9210b352198b"
      },
      "outputs": [
        {
          "output_type": "stream",
          "name": "stdout",
          "text": [
            "Input size:       torch.Size([3, 1, 28, 28]) : [batch_size, num_channels, H, W]\n",
            "Output size:      torch.Size([3, 10])        : [batch_size, num_classes]\n",
            "Predicted class:  tensor([5, 5, 5], device='cuda:0')          : [class for sample 1, class for sample 2, class for sample 3]\n"
          ]
        }
      ],
      "source": [
        "# random input of 3 images\n",
        "sample_batch = torch.rand(\n",
        "    3, 1, 28, 28, device=device\n",
        ")  # [batch_size, num_channels, H, W]\n",
        "\n",
        "# model output\n",
        "logits = model(sample_batch)\n",
        "\n",
        "# predicted probabilities\n",
        "pred_probab = nn.Softmax(dim=1)(logits)\n",
        "\n",
        "# predicted classes\n",
        "y_pred = pred_probab.argmax(dim=1)\n",
        "\n",
        "print(f\"Input size:       {sample_batch.size()} : [batch_size, num_channels, H, W]\")\n",
        "print(f\"Output size:      {logits.size()}        : [batch_size, num_classes]\")\n",
        "print(\n",
        "    f\"Predicted class:  {y_pred}          : [class for sample 1, class for sample 2, class for sample 3]\"\n",
        ")"
      ]
    },
    {
      "cell_type": "markdown",
      "metadata": {
        "id": "iFfGj9Vp7hO0"
      },
      "source": [
        "### Слои модели"
      ]
    },
    {
      "cell_type": "markdown",
      "metadata": {
        "id": "ZSgkHtHh7hO0"
      },
      "source": [
        "Давайте заглянем \"под капот\" нашей модели `NeuralNetwork`. Для иллюстрации возьмем мини-батч из трех одноканальных изображений 28×28 и посмотрим, что с ним происходит, когда мы пропускаем его через сеть."
      ]
    },
    {
      "cell_type": "code",
      "execution_count": null,
      "metadata": {
        "id": "cyfTEyLm7hO0",
        "colab": {
          "base_uri": "https://localhost:8080/"
        },
        "outputId": "8c39b289-351b-42d2-ccea-e328283caf8e"
      },
      "outputs": [
        {
          "output_type": "stream",
          "name": "stdout",
          "text": [
            "Input size: torch.Size([3, 1, 28, 28])\n"
          ]
        }
      ],
      "source": [
        "sample_batch = torch.rand(3, 1, 28, 28)\n",
        "print(f\"Input size: {sample_batch.size()}\")"
      ]
    },
    {
      "cell_type": "markdown",
      "metadata": {
        "id": "jbg0LdcJ7hO1"
      },
      "source": [
        "#### Слой `nn.Flatten`"
      ]
    },
    {
      "cell_type": "markdown",
      "metadata": {
        "id": "l-dfqB7T7hO1"
      },
      "source": [
        "Мы используем слой [`nn.Flatten`](https://pytorch.org/docs/stable/generated/torch.nn.Flatten.html) для преобразования каждого изображения 1×28×28 пикселей в непрерывный массив из 784 значений (размер батча (на позиции `dim=0`) сохраняется)."
      ]
    },
    {
      "cell_type": "code",
      "execution_count": null,
      "metadata": {
        "id": "LiUYxt807hO1",
        "colab": {
          "base_uri": "https://localhost:8080/"
        },
        "outputId": "ba252600-61f6-4298-b5c6-4a389f565e1c"
      },
      "outputs": [
        {
          "output_type": "stream",
          "name": "stdout",
          "text": [
            "Size after Flatten: torch.Size([3, 784])\n"
          ]
        }
      ],
      "source": [
        "flatten = nn.Flatten()\n",
        "flat_image = flatten(sample_batch)\n",
        "print(f\"Size after Flatten: {flat_image.size()}\")"
      ]
    },
    {
      "cell_type": "markdown",
      "metadata": {
        "id": "KRz_XUx77hO1"
      },
      "source": [
        "#### Слой `nn.Linear`"
      ]
    },
    {
      "cell_type": "markdown",
      "metadata": {
        "id": "EadpfFL_7hO1"
      },
      "source": [
        "Линейный слой [`nn.Linear`](https://pytorch.org/docs/stable/generated/torch.nn.Linear.html) — это модуль, который производит линейное преобразование входных данных с помощью хранящихся в нем весов и смещений.\n",
        "\n",
        "Обязательными параметрами при объявлении этого слоя являются `in_features` — количество входных признаков, и `out_features` — количество выходных признаков.\n",
        "\n",
        "Фактически, этот модуль добавляет в модель один полносвязный слой нейронов *без активаций*. Слой состоит из `out_features` нейронов, каждый из которых имеет `in_features` входов.\n",
        "\n",
        "В примере ниже мы объявляем слой из 512 нейронов, каждый из которых получает \"вытянутое\" изображение из 784 пикселей."
      ]
    },
    {
      "cell_type": "code",
      "execution_count": null,
      "metadata": {
        "id": "-R9YacCU7hO1",
        "colab": {
          "base_uri": "https://localhost:8080/"
        },
        "outputId": "4ae15470-1500-4142-9f2d-30073b3950c2"
      },
      "outputs": [
        {
          "output_type": "stream",
          "name": "stdout",
          "text": [
            "Size after Linear:  torch.Size([3, 512])\n"
          ]
        }
      ],
      "source": [
        "layer1 = nn.Linear(in_features=784, out_features=512)\n",
        "hidden1 = layer1(flat_image)\n",
        "print(f\"Size after Linear:  {hidden1.size()}\")"
      ]
    },
    {
      "cell_type": "markdown",
      "metadata": {
        "id": "B6aL3lRu7hO1"
      },
      "source": [
        "Линейный слой, в отличие от слоя `nn.Flatten`, имеет обучаемые параметры — веса и смещения. Они хранятся как объекты специального класса `torch.nn.parameter.Parameter` и содержат в себе тензоры собственно с величинами параметров. Получить доступ к ним можно, обратившись к атрибутам слоя `.weight` и `.bias` соответственно."
      ]
    },
    {
      "cell_type": "code",
      "execution_count": null,
      "metadata": {
        "id": "iWB6tnSl7hO1",
        "colab": {
          "base_uri": "https://localhost:8080/"
        },
        "outputId": "22b62874-5439-4bec-e4f8-bddfbf036e55"
      },
      "outputs": [
        {
          "output_type": "stream",
          "name": "stdout",
          "text": [
            "Size of linear layer weights: torch.Size([512, 784])\n",
            "Type of linear layer weights: <class 'torch.nn.parameter.Parameter'>\n",
            "\n",
            "Size of linear layer biases: torch.Size([512])\n",
            "Type of linear layer biases: <class 'torch.nn.parameter.Parameter'>\n"
          ]
        }
      ],
      "source": [
        "print(f\"Size of linear layer weights: {layer1.weight.size()}\")\n",
        "print(f\"Type of linear layer weights: {type(layer1.weight)}\")\n",
        "\n",
        "print(f\"\\nSize of linear layer biases: {layer1.bias.size()}\")\n",
        "print(f\"Type of linear layer biases: {type(layer1.bias)}\")"
      ]
    },
    {
      "cell_type": "markdown",
      "metadata": {
        "id": "BxpAYlZM7hO1"
      },
      "source": [
        "#### Слой `nn.ReLU`"
      ]
    },
    {
      "cell_type": "markdown",
      "metadata": {
        "id": "rYjKfEUF7hO1"
      },
      "source": [
        "Нелинейные активации — это то, что позволяет модели учить сложные взаимосвязи между входом и выходом. Они применяются после линейных преобразований чтобы ввести *нелинейность*, помогая нейронным сетям изучать самые разные закономерности.\n",
        "\n",
        "В данной модели мы используем [`nn.ReLU`](https://pytorch.org/docs/stable/generated/torch.nn.ReLU.html) между линейными слоями, но существуют и реализации [других функций активации](https://pytorch.org/docs/stable/nn.html#non-linear-activations-weighted-sum-nonlinearity)."
      ]
    },
    {
      "cell_type": "code",
      "execution_count": null,
      "metadata": {
        "id": "xjRrmVG07hO1",
        "colab": {
          "base_uri": "https://localhost:8080/"
        },
        "outputId": "ab1a4248-cca1-4956-c0b2-7f8f7b892837"
      },
      "outputs": [
        {
          "output_type": "stream",
          "name": "stdout",
          "text": [
            "Before ReLU:  tensor([[ 0.5000,  0.1253, -0.3259,  ...,  0.0068,  0.3850,  0.4949],\n",
            "        [ 0.0322,  0.3916, -0.4091,  ..., -0.0054,  0.4910,  0.2215],\n",
            "        [-0.0267,  0.2673, -0.3874,  ...,  0.0171,  0.1633,  0.2858]],\n",
            "       grad_fn=<AddmmBackward0>)\n",
            "After ReLU:  tensor([[0.5000, 0.1253, 0.0000,  ..., 0.0068, 0.3850, 0.4949],\n",
            "        [0.0322, 0.3916, 0.0000,  ..., 0.0000, 0.4910, 0.2215],\n",
            "        [0.0000, 0.2673, 0.0000,  ..., 0.0171, 0.1633, 0.2858]],\n",
            "       grad_fn=<ReluBackward0>)\n",
            "\n",
            " Size after ReLU:  torch.Size([3, 512])\n"
          ]
        }
      ],
      "source": [
        "activations1 = nn.ReLU()(hidden1)\n",
        "\n",
        "print(f\"Before ReLU:  {hidden1}\")\n",
        "print(f\"After ReLU:  {activations1}\")\n",
        "print(f\"\\n Size after ReLU:  {activations1.size()}\")"
      ]
    },
    {
      "cell_type": "markdown",
      "metadata": {
        "id": "6t0Ca_ud7hO2"
      },
      "source": [
        "#### Объединение модулей в `nn.Sequential`"
      ]
    },
    {
      "cell_type": "markdown",
      "metadata": {
        "id": "6Yy4KQCr7hO2"
      },
      "source": [
        "[`nn.Sequential`](https://pytorch.org/docs/stable/generated/torch.nn.Sequential.html) — это упорядоченный контейнер для модулей. Данные проходят через все модули в том же порядке, в котором они определены в `nn.Sequential`. Можно использовать такой контейнер для того, чтобы быстро собрать простую нейронную сеть, как `seq_modules` в примере ниже."
      ]
    },
    {
      "cell_type": "code",
      "execution_count": null,
      "metadata": {
        "id": "uosAIDQK7hO2",
        "colab": {
          "base_uri": "https://localhost:8080/"
        },
        "outputId": "7e4b9b1b-3825-4d10-e06a-c3eadcd7da1d"
      },
      "outputs": [
        {
          "output_type": "stream",
          "name": "stdout",
          "text": [
            "Output size: torch.Size([3, 10])\n"
          ]
        }
      ],
      "source": [
        "seq_modules = nn.Sequential(flatten, layer1, nn.ReLU(), nn.Linear(512, 10))\n",
        "\n",
        "sample_batch = torch.rand(3, 1, 28, 28)\n",
        "logits = seq_modules(sample_batch)\n",
        "\n",
        "print(f\"Output size: {logits.size()}\")"
      ]
    },
    {
      "cell_type": "markdown",
      "metadata": {
        "id": "gtReKgXu7hO2"
      },
      "source": [
        "#### Слой `nn.Softmax`"
      ]
    },
    {
      "cell_type": "markdown",
      "metadata": {
        "id": "ivcdSSdK7hO2"
      },
      "source": [
        "Последний линейный слой нейронной сети возвращает *логиты* — \"сырые\" значения из диапазона $[-∞; +∞]$, которые могут быть пропущены через модуль [`nn.Softmax`](https://pytorch.org/docs/stable/generated/torch.nn.Softmax.html). Пропущенные через $\\text{Softmax}$ величины могут восприниматься как вероятности, с которыми модель относит данный объект к тому или иному классу. Параметр `dim` определяет размерность, вдоль которой величины должны суммироваться к $1$."
      ]
    },
    {
      "cell_type": "code",
      "execution_count": null,
      "metadata": {
        "id": "bHbC-11O7hO2",
        "colab": {
          "base_uri": "https://localhost:8080/"
        },
        "outputId": "e9b6865a-bb95-437b-c465-29e7429115df"
      },
      "outputs": [
        {
          "output_type": "stream",
          "name": "stdout",
          "text": [
            "Size after Softmax: torch.Size([3, 10])\n"
          ]
        }
      ],
      "source": [
        "softmax = nn.Softmax(dim=1)\n",
        "\n",
        "pred_probab = softmax(logits)\n",
        "\n",
        "print(f\"Size after Softmax: {pred_probab.size()}\")"
      ]
    },
    {
      "cell_type": "markdown",
      "metadata": {
        "id": "kVHgDERH7hO2"
      },
      "source": [
        "### Параметры модели"
      ]
    },
    {
      "cell_type": "markdown",
      "metadata": {
        "id": "3KtLbisY7hO2"
      },
      "source": [
        "Многие слои в нейронных сетях имеют *обучаемые параметры*, т. е. имеют ассоциированные с ними веса и смещения, которые оптимизируются во время обучения.\n",
        "\n",
        "Наследование от `nn.Module` автоматически отслеживает все слои, определенные внутри вашего класса модели, и делает все их параметры доступными с помощью методов `model.parameters()` или `model.named_parameters()`.\n",
        "\n",
        "В примере ниже мы проходимся по всем параметрам модели и для каждого тензора параметров выводим его размер."
      ]
    },
    {
      "cell_type": "code",
      "execution_count": null,
      "metadata": {
        "id": "Rc1CIzfp7hO2",
        "colab": {
          "base_uri": "https://localhost:8080/"
        },
        "outputId": "867d9768-de77-4c88-fb2b-da11e211d70c"
      },
      "outputs": [
        {
          "output_type": "stream",
          "name": "stdout",
          "text": [
            "Model structure: NeuralNetwork(\n",
            "  (flatten): Flatten(start_dim=1, end_dim=-1)\n",
            "  (layers_stack): Sequential(\n",
            "    (0): Linear(in_features=784, out_features=512, bias=True)\n",
            "    (1): ReLU()\n",
            "    (2): Linear(in_features=512, out_features=128, bias=True)\n",
            "    (3): ReLU()\n",
            "    (4): Linear(in_features=128, out_features=10, bias=True)\n",
            "  )\n",
            ")\n",
            "\n",
            "Layer: layers_stack.0.weight      Size: torch.Size([512, 784])\n",
            "Layer: layers_stack.0.bias        Size: torch.Size([512])\n",
            "Layer: layers_stack.2.weight      Size: torch.Size([128, 512])\n",
            "Layer: layers_stack.2.bias        Size: torch.Size([128])\n",
            "Layer: layers_stack.4.weight      Size: torch.Size([10, 128])\n",
            "Layer: layers_stack.4.bias        Size: torch.Size([10])\n"
          ]
        }
      ],
      "source": [
        "print(f\"Model structure: {model}\\n\")\n",
        "\n",
        "for name, param in model.named_parameters():\n",
        "    print(f\"Layer: {name:25}  Size: {param.size()}\")"
      ]
    },
    {
      "cell_type": "markdown",
      "metadata": {
        "id": "3i3XAT_f7hO2"
      },
      "source": [
        "## Обучение нейронной сети"
      ]
    },
    {
      "cell_type": "markdown",
      "metadata": {
        "id": "EainmeUC7hO2"
      },
      "source": [
        "Теперь, когда у нас есть данные и модель, настало время ее обучить, то есть оптимизировать ее параметры на обучающих данных.\n",
        "\n",
        "Обучение модели — итеративный процесс. На каждой итерции модель получает входные данные, дает предсказание на выходе, вычисляет значение функции потерь (loss), вычисляет производные функции потерь по параметрам и подстраивает параметры, используя градиентный спуск. Для более детального рассмотрения этого процесса рекомендуем посмотреть [видео об обратном распространении ошибки от 3Blue1Brown](https://www.youtube.com/watch?v=tIeHLnjs5U8).\n",
        "\n",
        "[Плейлист с видео о нейронных сетях от 3Blue1Brown с озвучкой на русском](https://www.youtube.com/playlist?list=PLfdZ2TeaMzfzlpZ60rbaYU_epH5XPNbWU)."
      ]
    },
    {
      "cell_type": "markdown",
      "metadata": {
        "id": "j4QaxHl77hO2"
      },
      "source": [
        "### Гиперпараметры"
      ]
    },
    {
      "cell_type": "markdown",
      "metadata": {
        "id": "EU2fGeNa7hO3"
      },
      "source": [
        "Гиперпараметры — это задаваемые разработчиком параметры, которые позволяют управлять процессом обучения. Различные значения гиперпараметров могут влиять на обучение модели и скорость сходимости ([здесь](https://pytorch.org/tutorials/beginner/hyperparameter_tuning_tutorial.html) можно почитать подробнее про подбор гиперпараметров).\n",
        "\n",
        "Мы определим следующие гиперпараметры процедуры обучения:\n",
        "* **количество эпох** (`num_epochs`) — количество итераций обучения по всему набору данных;\n",
        "* **размер батча** (`batch_size`) — количество образцов, передаваемых в сеть для обновления параметров;\n",
        "* **скорость обучения** (`learning_rate`) — коэффициент, определяющий, насколько сильно нужно обновлять параметры модели на каждом батче. Малые значения приводят к долгому обучению, в то время как большие значения могут приводить к непредсказуемому поведению во время обучения.\n"
      ]
    },
    {
      "cell_type": "code",
      "execution_count": null,
      "metadata": {
        "id": "p7U1PwGy7hO3"
      },
      "outputs": [],
      "source": [
        "num_epochs = 10\n",
        "batch_size = 64\n",
        "learning_rate = 1e-3"
      ]
    },
    {
      "cell_type": "markdown",
      "metadata": {
        "id": "zF5TpXa37hO3"
      },
      "source": [
        "Выше для демонстрации мы указывали размер батча в `DataLoader`-ах равным восьми. Для установки нового значения придется переопределить `DataLoader`-ы."
      ]
    },
    {
      "cell_type": "code",
      "execution_count": null,
      "metadata": {
        "id": "ArQYRYA57hO3"
      },
      "outputs": [],
      "source": [
        "train_dataloader = DataLoader(train_data, batch_size=batch_size, shuffle=True)\n",
        "test_dataloader = DataLoader(test_data, batch_size=batch_size, shuffle=False)"
      ]
    },
    {
      "cell_type": "markdown",
      "metadata": {
        "id": "utidn0EZ7hO3"
      },
      "source": [
        "### Оптимизация параметров (обучение сети)"
      ]
    },
    {
      "cell_type": "markdown",
      "metadata": {
        "id": "jhQTGYOR7hO3"
      },
      "source": [
        "Задав гиперпараметры, мы можем приступить к обучению модели. Каждая итерация цикла оптимизации называется **эпохой**.\n",
        "\n",
        "Каждая эпоха состоит из двух частей:\n",
        "* **цикл обучения (Train Loop)** — проход по обучающему набору данных и оптимизация параметров;\n",
        "* **цикл валидации (Validation Loop)** — проход по валидационному/тестовому набору данных и контроль того, что качество работы сети улучшается.\n",
        "\n",
        "Кратко ознакомимся с некоторыми понятиями, используемыми в цикле оптимизации."
      ]
    },
    {
      "cell_type": "markdown",
      "metadata": {
        "id": "uBNCBTvF7hO3"
      },
      "source": [
        "#### Функция потерь (Loss function)"
      ]
    },
    {
      "cell_type": "markdown",
      "metadata": {
        "id": "YLqw-qPr7hO3"
      },
      "source": [
        "При получении некоторых обучающих данных наша необученная сеть, скорее всего, не даст правильного ответа. Функция потерь измеряет степень различия между значениями на выходе сети и целевыми значениями. Именно функцию потерь мы и хотим минимизировать во время обучения. Для вычисления функции потерь нужно получить предсказание модели, передав ей на вход пример из данных, и сравнить его с истинным значением целевой переменной.\n",
        "\n",
        "Наиболее часто применяемыми функциями потерь являются [`nn.MSELoss`](https://pytorch.org/docs/stable/generated/torch.nn.MSELoss.html#torch.nn.MSELoss) (Mean Square Error) для задач регрессии и [`nn.CrossEntropyLoss`](https://pytorch.org/docs/stable/generated/torch.nn.CrossEntropyLoss.html#torch.nn.CrossEntropyLoss) для задач класиификации.\n",
        "\n",
        "\n",
        "Мы будем передавать выходы модели (логиты) в `nn.CrossEntropyLoss`, которая будет их нормализовывать и вычислять ошибку предсказания."
      ]
    },
    {
      "cell_type": "code",
      "execution_count": null,
      "metadata": {
        "id": "ROrA57Yd7hO3"
      },
      "outputs": [],
      "source": [
        "# Initialize the loss function\n",
        "criterion = nn.CrossEntropyLoss()"
      ]
    },
    {
      "cell_type": "markdown",
      "metadata": {
        "id": "WzfPlqM47hO3"
      },
      "source": [
        "#### Оптимизатор (Optimizer)"
      ]
    },
    {
      "cell_type": "markdown",
      "metadata": {
        "id": "wpouMxZW7hO3"
      },
      "source": [
        "Оптимизация — это процесс подстройки параметров модели для уменьшения ошибки на каждом шаге обучения. От **алгоритма оптимизации** зависит то, как этот процесс будет выполняться. Здесь мы будем использовать стохастический градиентный спуск (Stochastic Gradient Descent, SGD). Однако в PyTorch реализовано еще [множество других алгоритмов оптимизации](https://pytorch.org/docs/stable/optim.html#algorithms), таких как Adam и RMSProp, и они могут работать лучше или хуже для разных видов моделей и данных.\n",
        "\n",
        "Вся логика оптимизации заключена в объекте `optimizer`. Мы инициализируем оптимизатор, передавая ему параметры модели, которые требуется обучать (`model.parameters()`), а также гиперпараметр скорости обучения (`learning_rate`)."
      ]
    },
    {
      "cell_type": "code",
      "execution_count": null,
      "metadata": {
        "id": "3DWJdbxI7hO4"
      },
      "outputs": [],
      "source": [
        "optimizer = torch.optim.SGD(model.parameters(), lr=learning_rate)"
      ]
    },
    {
      "cell_type": "markdown",
      "metadata": {
        "id": "i7bsdbot7hO4"
      },
      "source": [
        "Внутри цикла обучения оптимизация производится за три шага:\n",
        "1. Вызов `optimizer.zero_grad()`, чтобы сбросить градиенты параметров модели. По умолчанию градиенты суммируются, и во избежание повторного вычисления их необходимо явно обнулять на каждой итерации;\n",
        "2. Обратное распространение ошибки предсказания с помощью вызова `loss.backward()`. PyTorch вычислит градиенты функции потерь относительно каждого обучаемого параметра;\n",
        "3. Когда у нас есть градиенты, мы вызываем `optimizer.step()`, чтобы подстроить обучаемые параметры с учетом градиентов, посчитанных при обратном распространении, согласно алгоритму оптимизации.\n"
      ]
    },
    {
      "cell_type": "markdown",
      "metadata": {
        "id": "p5vWSRou7hO4"
      },
      "source": [
        "### Реализация обучения"
      ]
    },
    {
      "cell_type": "markdown",
      "metadata": {
        "id": "n3kHjy4j7hO4"
      },
      "source": [
        "Мы определим две функции:\n",
        "* `train_loop`, которая производит цикл обучения,\n",
        "* `test_loop`, которая оценивает качество модели на тестовых данных."
      ]
    },
    {
      "cell_type": "code",
      "execution_count": null,
      "metadata": {
        "id": "1M1_D1gn7hO4"
      },
      "outputs": [],
      "source": [
        "def train_loop(dataloader, model, criterion, optimizer):\n",
        "    num_batches = len(dataloader)\n",
        "\n",
        "    train_loss = 0\n",
        "\n",
        "    for imgs, labels in dataloader:\n",
        "        # Compute prediction and loss\n",
        "        pred = model(imgs.to(device))\n",
        "        loss = criterion(pred, labels.to(device))\n",
        "\n",
        "        # Optimization\n",
        "        optimizer.zero_grad()\n",
        "        loss.backward()\n",
        "        optimizer.step()\n",
        "\n",
        "        train_loss += loss.item()\n",
        "\n",
        "    train_loss /= num_batches\n",
        "    print(f\"Train loss: {train_loss:>8f}\")\n",
        "\n",
        "    return train_loss\n",
        "\n",
        "\n",
        "def test_loop(dataloader, model, criterion):\n",
        "    size = len(dataloader.dataset)\n",
        "    num_batches = len(dataloader)\n",
        "\n",
        "    test_loss, correct = 0, 0\n",
        "\n",
        "    with torch.no_grad():\n",
        "        for imgs, labels in dataloader:\n",
        "            # Compute prediction and loss\n",
        "            pred = model(imgs.to(device))\n",
        "            loss = criterion(pred, labels.to(device))\n",
        "\n",
        "            test_loss += loss.item()\n",
        "            correct += (\n",
        "                (pred.argmax(1) == labels.to(device)).type(torch.float).sum().item()\n",
        "            )\n",
        "\n",
        "    test_loss /= num_batches\n",
        "    correct /= size\n",
        "    print(f\"Test loss: {test_loss:>8f}, test accuracy: {(100*correct):>0.1f}% \\n\")\n",
        "\n",
        "    return test_loss"
      ]
    },
    {
      "cell_type": "markdown",
      "metadata": {
        "id": "xfKK3JlB7hO4"
      },
      "source": [
        "Выше мы объявили гиперпараметры и инициализировали функцию потерь `criterion` и оптимизатор `optimizer`. Теперь мы запускаем цикл оптимизации на 10 эпох, и в каждой итерации мы вызываем функцию для выполнения цикла обучения `train_loop`, а затем функцию для промежуточной оценки качества `test_loop`. Также на каждой эпохе будем сохранять текущее значение функции потерь на обучающих и тестовых данных для построения графика обучения."
      ]
    },
    {
      "cell_type": "code",
      "execution_count": null,
      "metadata": {
        "id": "tn2yrzna7hO4",
        "colab": {
          "base_uri": "https://localhost:8080/"
        },
        "outputId": "6428dec8-7bce-4418-ab10-fcf72a0a7681"
      },
      "outputs": [
        {
          "output_type": "stream",
          "name": "stdout",
          "text": [
            "Epoch 1\n",
            "Train loss: 2.104644\n",
            "Test loss: 1.817097, test accuracy: 67.7% \n",
            "\n",
            "Epoch 2\n",
            "Train loss: 1.421919\n",
            "Test loss: 1.037651, test accuracy: 81.1% \n",
            "\n",
            "Epoch 3\n",
            "Train loss: 0.841584\n",
            "Test loss: 0.670006, test accuracy: 85.7% \n",
            "\n",
            "Epoch 4\n",
            "Train loss: 0.603070\n",
            "Test loss: 0.519720, test accuracy: 87.6% \n",
            "\n",
            "Epoch 5\n",
            "Train loss: 0.495544\n",
            "Test loss: 0.443569, test accuracy: 88.6% \n",
            "\n",
            "Epoch 6\n",
            "Train loss: 0.436743\n",
            "Test loss: 0.398988, test accuracy: 89.4% \n",
            "\n",
            "Epoch 7\n",
            "Train loss: 0.400241\n",
            "Test loss: 0.370279, test accuracy: 89.8% \n",
            "\n",
            "Epoch 8\n",
            "Train loss: 0.374837\n",
            "Test loss: 0.348712, test accuracy: 90.1% \n",
            "\n",
            "Epoch 9\n",
            "Train loss: 0.355838\n",
            "Test loss: 0.332777, test accuracy: 90.6% \n",
            "\n",
            "Epoch 10\n",
            "Train loss: 0.340916\n",
            "Test loss: 0.320002, test accuracy: 90.8% \n",
            "\n",
            "Done!\n",
            "CPU times: user 3min 4s, sys: 1.15 s, total: 3min 5s\n",
            "Wall time: 3min 7s\n"
          ]
        }
      ],
      "source": [
        "%%time\n",
        "# for plotting\n",
        "loss_history = {\"train\": [], \"test\": []}\n",
        "\n",
        "for i in range(num_epochs):\n",
        "    print(f\"Epoch {i+1}\")\n",
        "    train_loss = train_loop(train_dataloader, model, criterion, optimizer)\n",
        "    test_loss = test_loop(test_dataloader, model, criterion)\n",
        "\n",
        "    loss_history[\"train\"].append(train_loss)\n",
        "    loss_history[\"test\"].append(test_loss)\n",
        "print(\"Done!\")"
      ]
    },
    {
      "cell_type": "markdown",
      "metadata": {
        "id": "TP3yNwDY7hO4"
      },
      "source": [
        "Построим график функции потерь на обучающих и на тестовых данных по эпохам:"
      ]
    },
    {
      "cell_type": "code",
      "execution_count": null,
      "metadata": {
        "id": "d7zDz29N7hO4",
        "colab": {
          "base_uri": "https://localhost:8080/",
          "height": 471
        },
        "outputId": "46c04268-7513-4b26-d58b-232698e70e81"
      },
      "outputs": [
        {
          "output_type": "display_data",
          "data": {
            "text/plain": [
              "<Figure size 1000x500 with 1 Axes>"
            ],
            "image/png": "[encoded data removed]"
          },
          "metadata": {}
        }
      ],
      "source": [
        "plt.figure(figsize=(10, 5))\n",
        "plt.plot(range(1, num_epochs + 1), loss_history[\"train\"], label=\"train\")\n",
        "plt.plot(range(1, num_epochs + 1), loss_history[\"test\"], label=\"test\")\n",
        "plt.xlabel(\"Epochs\", fontsize=15)\n",
        "plt.ylabel(\"Loss\", fontsize=15)\n",
        "plt.legend()\n",
        "plt.grid()\n",
        "plt.show()"
      ]
    },
    {
      "cell_type": "markdown",
      "metadata": {
        "id": "uhMLjO6m7hO5"
      },
      "source": [
        "###  Посмотрим на предсказания обученной модели"
      ]
    },
    {
      "cell_type": "markdown",
      "metadata": {
        "id": "NKmkBxlt7hO5"
      },
      "source": [
        "Поэтапно пропустим тестовые изображения через модель и визуализируем результат"
      ]
    },
    {
      "cell_type": "code",
      "execution_count": null,
      "metadata": {
        "id": "NNFXv7lI7hO5",
        "colab": {
          "base_uri": "https://localhost:8080/"
        },
        "outputId": "99407c01-9849-4790-ec6b-3031ce673684"
      },
      "outputs": [
        {
          "output_type": "stream",
          "name": "stdout",
          "text": [
            "imgs shape:  torch.Size([64, 1, 28, 28])\n"
          ]
        }
      ],
      "source": [
        "# get batch\n",
        "imgs, labels = next(iter(test_dataloader))\n",
        "print(\"imgs shape: \", imgs.shape)"
      ]
    },
    {
      "cell_type": "code",
      "execution_count": null,
      "metadata": {
        "id": "u7747qxL7hO5",
        "colab": {
          "base_uri": "https://localhost:8080/"
        },
        "outputId": "fd3561f8-867e-4acb-db82-ed9788e208e1"
      },
      "outputs": [
        {
          "output_type": "stream",
          "name": "stdout",
          "text": [
            "pred shape:  torch.Size([64, 10])\n"
          ]
        }
      ],
      "source": [
        "# get output\n",
        "pred = model(imgs.to(device))\n",
        "print(\"pred shape: \", pred.shape)"
      ]
    },
    {
      "cell_type": "code",
      "execution_count": null,
      "metadata": {
        "id": "gPEbu8ln7hO5",
        "colab": {
          "base_uri": "https://localhost:8080/"
        },
        "outputId": "24ccc4d5-9cca-4ef8-8b2c-9f1cc21a4aed"
      },
      "outputs": [
        {
          "output_type": "execute_result",
          "data": {
            "text/plain": [
              "tensor([ 0.1009, -4.1227, -0.2685,  1.3900, -1.6250, -0.5685, -5.9602,  8.8221,\n",
              "        -0.8919,  3.4242], device='cuda:0', grad_fn=<SelectBackward0>)"
            ]
          },
          "metadata": {},
          "execution_count": 31
        }
      ],
      "source": [
        "# First sample in prediction batch\n",
        "pred[0]"
      ]
    },
    {
      "cell_type": "code",
      "execution_count": null,
      "metadata": {
        "id": "KXgb2lDJ7hO5",
        "colab": {
          "base_uri": "https://localhost:8080/"
        },
        "outputId": "1fc9abe2-f938-4957-e556-94d85e95019f"
      },
      "outputs": [
        {
          "output_type": "execute_result",
          "data": {
            "text/plain": [
              "tensor([1.6219e-04, 2.3754e-06, 1.1210e-04, 5.8869e-04, 2.8872e-05, 8.3044e-05,\n",
              "        3.7822e-07, 9.9446e-01, 6.0096e-05, 4.5013e-03], device='cuda:0')"
            ]
          },
          "metadata": {},
          "execution_count": 32
        }
      ],
      "source": [
        "# Calculate probabilities\n",
        "nn.Softmax(dim=0)(pred[0].detach())"
      ]
    },
    {
      "cell_type": "code",
      "execution_count": null,
      "metadata": {
        "id": "FmMWv2l87hO5",
        "colab": {
          "base_uri": "https://localhost:8080/"
        },
        "outputId": "a6f442eb-3ae3-402e-b32c-8a12af718d34"
      },
      "outputs": [
        {
          "output_type": "stream",
          "name": "stdout",
          "text": [
            "imgs shape(after reshape):  torch.Size([64, 28, 28])\n"
          ]
        }
      ],
      "source": [
        "# remove axis\n",
        "imgs = torch.reshape(imgs, (64, 28, 28))\n",
        "print(\"imgs shape(after reshape): \", imgs.shape)"
      ]
    },
    {
      "cell_type": "code",
      "execution_count": null,
      "metadata": {
        "id": "tqIEeHjG7hO5",
        "colab": {
          "base_uri": "https://localhost:8080/"
        },
        "outputId": "a33235eb-4f3d-4d8f-d068-c3169731698e"
      },
      "outputs": [
        {
          "output_type": "stream",
          "name": "stdout",
          "text": [
            "imgs shape:  torch.Size([10, 28, 28])\n"
          ]
        }
      ],
      "source": [
        "# take 10 first images\n",
        "imgs = imgs[:10]\n",
        "print(\"imgs shape: \", imgs.shape)"
      ]
    },
    {
      "cell_type": "code",
      "execution_count": null,
      "metadata": {
        "id": "PGHTtAz_7hO5",
        "colab": {
          "base_uri": "https://localhost:8080/"
        },
        "outputId": "98e9856b-83f9-4980-cb54-47480077e580"
      },
      "outputs": [
        {
          "output_type": "stream",
          "name": "stdout",
          "text": [
            "Prediction(1 sample):\n",
            " tensor([ 0.1009, -4.1227, -0.2685,  1.3900, -1.6250, -0.5685, -5.9602,  8.8221,\n",
            "        -0.8919,  3.4242], device='cuda:0')\n",
            "Predicted class:  7\n"
          ]
        }
      ],
      "source": [
        "import numpy as np\n",
        "\n",
        "pred = pred[:10].detach()\n",
        "print(\"Prediction(1 sample):\\n\", pred[0])\n",
        "digits = np.argmax(pred.cpu().numpy(), axis=1)\n",
        "print(\"Predicted class: \", digits[0])"
      ]
    },
    {
      "cell_type": "markdown",
      "metadata": {
        "id": "87IKEUT17hO6"
      },
      "source": [
        "Визуализируем изображения, подпишем предсказанное и истинное значение:"
      ]
    },
    {
      "cell_type": "code",
      "execution_count": null,
      "metadata": {
        "id": "aGjQMu2v7hO6",
        "colab": {
          "base_uri": "https://localhost:8080/",
          "height": 134
        },
        "outputId": "577b172e-d432-4b3d-af36-e08e1e87cc8f"
      },
      "outputs": [
        {
          "output_type": "display_data",
          "data": {
            "text/plain": [
              "<Figure size 2500x2500 with 10 Axes>"
            ],
            "image/png": "[encoded data removed]"
          },
          "metadata": {}
        }
      ],
      "source": [
        "plt.figure(figsize=(25.0, 25.0))\n",
        "for i in range(10):\n",
        "    img = imgs[i]\n",
        "\n",
        "    plt.subplot(1, 10, i + 1)\n",
        "    plt.title(\n",
        "        \"pred: \" + str(digits[i]) + \" real: \" + str(labels[i].numpy())\n",
        "    )  # predicted and real values\n",
        "    plt.axis(\"off\")\n",
        "    plt.imshow(img.numpy(), cmap=\"gray\")"
      ]
    },
    {
      "cell_type": "markdown",
      "metadata": {
        "id": "a0NAWW1D7hO6"
      },
      "source": [
        "## Сохранение и загрузка весов модели"
      ]
    },
    {
      "cell_type": "markdown",
      "metadata": {
        "id": "L-R5YnXt7hO6"
      },
      "source": [
        "Обычно обучение модели является достаточно затратным процессом с точки зрения вычислительных ресурсов. Поэтому, однажды обучив сеть, разумно будет сохранить ее для последующего использования. Рассмотрим, как это можно сделать в PyTorch."
      ]
    },
    {
      "cell_type": "markdown",
      "metadata": {
        "id": "WXnIhH5n7hO6"
      },
      "source": [
        "Модели PyTorch хранят обучаемые параметры во внутреннем словаре состояния, который называется `state_dict`. Их можно сохранить с помощью метода `torch.save`.\n"
      ]
    },
    {
      "cell_type": "code",
      "execution_count": null,
      "metadata": {
        "id": "9DMramC77hO6"
      },
      "outputs": [],
      "source": [
        "torch.save(model.state_dict(), \"model_weights.pth\")"
      ]
    },
    {
      "cell_type": "markdown",
      "metadata": {
        "id": "2hx24DpK7hO6"
      },
      "source": [
        "Для того, чтобы загрузить веса модели, сперва необходимо создать экземпляр такой модели, а затем загрузить параметры с помощью метода `load_state_dict()`."
      ]
    },
    {
      "cell_type": "code",
      "execution_count": null,
      "metadata": {
        "id": "3Wr5t1tR7hO6",
        "colab": {
          "base_uri": "https://localhost:8080/"
        },
        "outputId": "d4deac74-a887-4aa6-c8e8-ba2727af5f89"
      },
      "outputs": [
        {
          "output_type": "stream",
          "name": "stdout",
          "text": [
            "NeuralNetwork(\n",
            "  (flatten): Flatten(start_dim=1, end_dim=-1)\n",
            "  (layers_stack): Sequential(\n",
            "    (0): Linear(in_features=784, out_features=512, bias=True)\n",
            "    (1): ReLU()\n",
            "    (2): Linear(in_features=512, out_features=128, bias=True)\n",
            "    (3): ReLU()\n",
            "    (4): Linear(in_features=128, out_features=10, bias=True)\n",
            "  )\n",
            ")\n"
          ]
        }
      ],
      "source": [
        "model = NeuralNetwork()\n",
        "model.load_state_dict(torch.load(\"model_weights.pth\"))\n",
        "print(model)"
      ]
    },
    {
      "cell_type": "markdown",
      "source": [
        "## Заключение\n",
        "В этом руководстве мы шаг за шагом решили задачу классификации рукописных цифр из набора данных MNIST с помощью полносвязной нейронной сети. Мы познакомились с такими сущностями, как `Dataset` и `DataLoader`, рассмотрели трансформации для перевода данных в тензоры и их нормализации, создали полносвязную нейронную сеть и рассмотрели все ее слои, обучили ее и оценили качество, а также узнали, как сохранить обученную модель для будущего использования.\n",
        "\n",
        "Модели, с которыми вы будете сталкиваться, могут быть устроены более сложно, использовать другие слои и функции потерь. Задачи обучения также могут отличаться: с помощью нейронных сетей можно решать не только задачи классификации, но и задачи регрессии, детектирования, обнаружения аномалий, понижения размерности, и другие. В разных ситуациях будут меняться постановка задачи, данные, модели, функции потерь, но общий процесс работы будет оставаться похожим на тот, который мы рассмотрели в данном руководстве."
      ],
      "metadata": {
        "id": "XJYGEBMKBxnI"
      }
    }
  ]
}